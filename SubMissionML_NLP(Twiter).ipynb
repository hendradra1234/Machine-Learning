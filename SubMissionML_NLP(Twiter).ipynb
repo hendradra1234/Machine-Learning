{
  "nbformat": 4,
  "nbformat_minor": 0,
  "metadata": {
    "colab": {
      "name": "SubMissionML_NLP(Twiter).ipynb",
      "provenance": [],
      "collapsed_sections": []
    },
    "kernelspec": {
      "name": "python3",
      "display_name": "Python 3"
    },
    "accelerator": "GPU"
  },
  "cells": [
    {
      "cell_type": "code",
      "metadata": {
        "id": "7UDVZTKzQca4",
        "colab_type": "code",
        "colab": {
          "base_uri": "https://localhost:8080/",
          "height": 34
        },
        "outputId": "f6d2bcb5-1f83-4c84-abeb-bcd0cd603d87"
      },
      "source": [
        "import os\n",
        "from google.colab import drive\n",
        "drive.mount('/content/gdrive')\n",
        "os.environ['KAGGLE_CONFIG_DIR'] = '/content/gdrive/My Drive/Kaggle'\n",
        "\n",
        "filename = 'twitter-and-reddit-sentimental-analysis-dataset.zip'\n",
        "exfile = 'twiterredditsentimentanalyis'"
      ],
      "execution_count": 87,
      "outputs": [
        {
          "output_type": "stream",
          "text": [
            "Drive already mounted at /content/gdrive; to attempt to forcibly remount, call drive.mount(\"/content/gdrive\", force_remount=True).\n"
          ],
          "name": "stdout"
        }
      ]
    },
    {
      "cell_type": "code",
      "metadata": {
        "id": "QtVCpuISRc5J",
        "colab_type": "code",
        "colab": {
          "base_uri": "https://localhost:8080/",
          "height": 34
        },
        "outputId": "59436518-05f6-41d8-b2ff-2ff01670a49f"
      },
      "source": [
        "cd /content/gdrive/My Drive/Kaggle"
      ],
      "execution_count": 88,
      "outputs": [
        {
          "output_type": "stream",
          "text": [
            "/content/gdrive/My Drive/Kaggle\n"
          ],
          "name": "stdout"
        }
      ]
    },
    {
      "cell_type": "code",
      "metadata": {
        "id": "mFsJQhtiSLkI",
        "colab_type": "code",
        "colab": {
          "base_uri": "https://localhost:8080/",
          "height": 34
        },
        "outputId": "c43f68ef-6ade-49e5-a3c0-01d70b6480df"
      },
      "source": [
        "!kaggle datasets download -d cosmos98/twitter-and-reddit-sentimental-analysis-dataset"
      ],
      "execution_count": 89,
      "outputs": [
        {
          "output_type": "stream",
          "text": [
            "twitter-and-reddit-sentimental-analysis-dataset.zip: Skipping, found more recently modified local copy (use --force to force download)\n"
          ],
          "name": "stdout"
        }
      ]
    },
    {
      "cell_type": "code",
      "metadata": {
        "id": "5DZxdGky8GCr",
        "colab_type": "code",
        "colab": {
          "base_uri": "https://localhost:8080/",
          "height": 51
        },
        "outputId": "0a8fc4ce-509b-4c52-fe0c-6409e5052866"
      },
      "source": [
        "import os\n",
        "import zipfile as zf\n",
        "\n",
        "try:\n",
        "  extFile = zf.ZipFile(filename)\n",
        "  extFile.extractall(exfile)\n",
        "  extFile.close()\n",
        "  print('Dekompresi dataset sukses')\n",
        "except(FileExistsError,FileNotFoundError):\n",
        "  print('Tidak dapat melakukan decompresi dataset')\n",
        "finally:\n",
        "  print('Operation terminated')"
      ],
      "execution_count": 90,
      "outputs": [
        {
          "output_type": "stream",
          "text": [
            "Dekompresi dataset sukses\n",
            "Operation terminated\n"
          ],
          "name": "stdout"
        }
      ]
    },
    {
      "cell_type": "code",
      "metadata": {
        "id": "IAIARSy4DoXK",
        "colab_type": "code",
        "colab": {
          "base_uri": "https://localhost:8080/",
          "height": 34
        },
        "outputId": "4c4e02c5-dee7-404f-ea73-f60e64e2ab88"
      },
      "source": [
        "import tensorflow as tf\n",
        "from tensorflow.keras.preprocessing.text import Tokenizer\n",
        "from tensorflow.keras.preprocessing.sequence import pad_sequences\n",
        "from sklearn.model_selection import train_test_split\n",
        "\n",
        "vocabSize = 5000\n",
        "maxlength = 100\n",
        "testSize = 0.2\n",
        "embeddedDim = 64\n",
        "batchSize = 128\n",
        "trunc_type = 'post'\n",
        "padding_type = 'post'\n",
        "oovTok = '<OOV>'\n",
        "files = os.listdir(exfile)\n",
        "datasetFiles = os.path.join(exfile,files[1])\n",
        "print('file dataset {}'.format(datasetFiles))"
      ],
      "execution_count": 91,
      "outputs": [
        {
          "output_type": "stream",
          "text": [
            "file dataset twiterredditsentimentanalyis/Twitter_Data.csv\n"
          ],
          "name": "stdout"
        }
      ]
    },
    {
      "cell_type": "code",
      "metadata": {
        "id": "hR3mXYSh9vNA",
        "colab_type": "code",
        "colab": {
          "base_uri": "https://localhost:8080/",
          "height": 204
        },
        "outputId": "e1acffb7-e20a-41ed-bdc9-1ff7c0814663"
      },
      "source": [
        "import json as js\n",
        "import pandas as pd\n",
        "normalizationDataset = pd.read_csv(datasetFiles)\n",
        "normalizationDataset.head()"
      ],
      "execution_count": 92,
      "outputs": [
        {
          "output_type": "execute_result",
          "data": {
            "text/html": [
              "<div>\n",
              "<style scoped>\n",
              "    .dataframe tbody tr th:only-of-type {\n",
              "        vertical-align: middle;\n",
              "    }\n",
              "\n",
              "    .dataframe tbody tr th {\n",
              "        vertical-align: top;\n",
              "    }\n",
              "\n",
              "    .dataframe thead th {\n",
              "        text-align: right;\n",
              "    }\n",
              "</style>\n",
              "<table border=\"1\" class=\"dataframe\">\n",
              "  <thead>\n",
              "    <tr style=\"text-align: right;\">\n",
              "      <th></th>\n",
              "      <th>clean_text</th>\n",
              "      <th>category</th>\n",
              "    </tr>\n",
              "  </thead>\n",
              "  <tbody>\n",
              "    <tr>\n",
              "      <th>0</th>\n",
              "      <td>when modi promised “minimum government maximum...</td>\n",
              "      <td>-1.0</td>\n",
              "    </tr>\n",
              "    <tr>\n",
              "      <th>1</th>\n",
              "      <td>talk all the nonsense and continue all the dra...</td>\n",
              "      <td>0.0</td>\n",
              "    </tr>\n",
              "    <tr>\n",
              "      <th>2</th>\n",
              "      <td>what did just say vote for modi  welcome bjp t...</td>\n",
              "      <td>1.0</td>\n",
              "    </tr>\n",
              "    <tr>\n",
              "      <th>3</th>\n",
              "      <td>asking his supporters prefix chowkidar their n...</td>\n",
              "      <td>1.0</td>\n",
              "    </tr>\n",
              "    <tr>\n",
              "      <th>4</th>\n",
              "      <td>answer who among these the most powerful world...</td>\n",
              "      <td>1.0</td>\n",
              "    </tr>\n",
              "  </tbody>\n",
              "</table>\n",
              "</div>"
            ],
            "text/plain": [
              "                                          clean_text  category\n",
              "0  when modi promised “minimum government maximum...      -1.0\n",
              "1  talk all the nonsense and continue all the dra...       0.0\n",
              "2  what did just say vote for modi  welcome bjp t...       1.0\n",
              "3  asking his supporters prefix chowkidar their n...       1.0\n",
              "4  answer who among these the most powerful world...       1.0"
            ]
          },
          "metadata": {
            "tags": []
          },
          "execution_count": 92
        }
      ]
    },
    {
      "cell_type": "code",
      "metadata": {
        "id": "86kJHRaa-CDr",
        "colab_type": "code",
        "colab": {
          "base_uri": "https://localhost:8080/",
          "height": 204
        },
        "outputId": "ffcd214e-04df-4bfc-cdf9-7252e4256a3d"
      },
      "source": [
        "review = normalizationDataset['clean_text']\n",
        "rating = []\n",
        "\n",
        "for r in normalizationDataset['category']:\n",
        "  if r == -1.0:\n",
        "    rating.append('negative')\n",
        "  if r == 0.0:\n",
        "    rating.append('neutral')\n",
        "  if r == 1.0:\n",
        "    rating.append('positive')\n",
        "\n",
        "  if r != -1.0 and r != 0.0 and r != 1.0:\n",
        "    rating.append('negative')\n",
        "\n",
        "normalizationDataset = pd.DataFrame({'tweet':review,'category':rating})\n",
        "normalizationDataset.head()"
      ],
      "execution_count": 93,
      "outputs": [
        {
          "output_type": "execute_result",
          "data": {
            "text/html": [
              "<div>\n",
              "<style scoped>\n",
              "    .dataframe tbody tr th:only-of-type {\n",
              "        vertical-align: middle;\n",
              "    }\n",
              "\n",
              "    .dataframe tbody tr th {\n",
              "        vertical-align: top;\n",
              "    }\n",
              "\n",
              "    .dataframe thead th {\n",
              "        text-align: right;\n",
              "    }\n",
              "</style>\n",
              "<table border=\"1\" class=\"dataframe\">\n",
              "  <thead>\n",
              "    <tr style=\"text-align: right;\">\n",
              "      <th></th>\n",
              "      <th>tweet</th>\n",
              "      <th>category</th>\n",
              "    </tr>\n",
              "  </thead>\n",
              "  <tbody>\n",
              "    <tr>\n",
              "      <th>0</th>\n",
              "      <td>when modi promised “minimum government maximum...</td>\n",
              "      <td>negative</td>\n",
              "    </tr>\n",
              "    <tr>\n",
              "      <th>1</th>\n",
              "      <td>talk all the nonsense and continue all the dra...</td>\n",
              "      <td>neutral</td>\n",
              "    </tr>\n",
              "    <tr>\n",
              "      <th>2</th>\n",
              "      <td>what did just say vote for modi  welcome bjp t...</td>\n",
              "      <td>positive</td>\n",
              "    </tr>\n",
              "    <tr>\n",
              "      <th>3</th>\n",
              "      <td>asking his supporters prefix chowkidar their n...</td>\n",
              "      <td>positive</td>\n",
              "    </tr>\n",
              "    <tr>\n",
              "      <th>4</th>\n",
              "      <td>answer who among these the most powerful world...</td>\n",
              "      <td>positive</td>\n",
              "    </tr>\n",
              "  </tbody>\n",
              "</table>\n",
              "</div>"
            ],
            "text/plain": [
              "                                               tweet  category\n",
              "0  when modi promised “minimum government maximum...  negative\n",
              "1  talk all the nonsense and continue all the dra...   neutral\n",
              "2  what did just say vote for modi  welcome bjp t...  positive\n",
              "3  asking his supporters prefix chowkidar their n...  positive\n",
              "4  answer who among these the most powerful world...  positive"
            ]
          },
          "metadata": {
            "tags": []
          },
          "execution_count": 93
        }
      ]
    },
    {
      "cell_type": "code",
      "metadata": {
        "id": "Xe0DBQSZv4Zh",
        "colab_type": "code",
        "colab": {
          "base_uri": "https://localhost:8080/",
          "height": 265
        },
        "outputId": "f7d3cf2a-2ffe-4062-b1fb-833903f7a27d"
      },
      "source": [
        "import matplotlib.pyplot as plt\n",
        "\n",
        "sizes = normalizationDataset.category.value_counts().values\n",
        "labels = normalizationDataset.category.value_counts().index\n",
        "\n",
        "plt.pie(\n",
        "    sizes,\n",
        "    labels=labels,\n",
        "    autopct='%.1f%%',\n",
        "    shadow=True,\n",
        "    pctdistance=0.85,\n",
        "    labeldistance=1.05,\n",
        "    startangle=20,\n",
        "    explode = [0 if 1 > 0 else 0.2 for i in range(len(sizes))])\n",
        "\n",
        "plt.axis('equal')\n",
        "plt.show()\n",
        "print('total sample dataset: {} unit'.format(sum(sizes)))\n"
      ],
      "execution_count": 94,
      "outputs": [
        {
          "output_type": "display_data",
          "data": {
            "image/png": "[encoded data removed]",
            "text/plain": [
              "<Figure size 432x288 with 1 Axes>"
            ]
          },
          "metadata": {
            "tags": []
          }
        },
        {
          "output_type": "stream",
          "text": [
            "total sample dataset: 162980 unit\n"
          ],
          "name": "stdout"
        }
      ]
    },
    {
      "cell_type": "code",
      "metadata": {
        "id": "3a7wYyaZKYG1",
        "colab_type": "code",
        "colab": {
          "base_uri": "https://localhost:8080/",
          "height": 34
        },
        "outputId": "eafccae0-5167-42db-eff9-661bf44315d7"
      },
      "source": [
        "normalizationDataset.shape"
      ],
      "execution_count": 95,
      "outputs": [
        {
          "output_type": "execute_result",
          "data": {
            "text/plain": [
              "(162980, 2)"
            ]
          },
          "metadata": {
            "tags": []
          },
          "execution_count": 95
        }
      ]
    },
    {
      "cell_type": "code",
      "metadata": {
        "id": "TA8hFPEuKhJs",
        "colab_type": "code",
        "colab": {
          "base_uri": "https://localhost:8080/",
          "height": 85
        },
        "outputId": "dfff3dbd-99aa-405c-a476-62af229d11c0"
      },
      "source": [
        "normalizationDataset.category.value_counts()"
      ],
      "execution_count": 96,
      "outputs": [
        {
          "output_type": "execute_result",
          "data": {
            "text/plain": [
              "positive    72250\n",
              "neutral     55213\n",
              "negative    35517\n",
              "Name: category, dtype: int64"
            ]
          },
          "metadata": {
            "tags": []
          },
          "execution_count": 96
        }
      ]
    },
    {
      "cell_type": "code",
      "metadata": {
        "id": "OUgVDw_CaGAH",
        "colab_type": "code",
        "colab": {
          "base_uri": "https://localhost:8080/",
          "height": 119
        },
        "outputId": "ae5568df-c319-4736-d201-989a500fd629"
      },
      "source": [
        "lenDataset = normalizationDataset.groupby('category')\n",
        "classQty = lenDataset.ngroups\n",
        "print('total class {}'.format(classQty))\n",
        "category = lenDataset['category']\n",
        "category = category\n",
        "lenDataset.size()\n"
      ],
      "execution_count": 97,
      "outputs": [
        {
          "output_type": "stream",
          "text": [
            "total class 3\n"
          ],
          "name": "stdout"
        },
        {
          "output_type": "execute_result",
          "data": {
            "text/plain": [
              "category\n",
              "negative    35517\n",
              "neutral     55213\n",
              "positive    72250\n",
              "dtype: int64"
            ]
          },
          "metadata": {
            "tags": []
          },
          "execution_count": 97
        }
      ]
    },
    {
      "cell_type": "code",
      "metadata": {
        "id": "WdT3yv7qvRdl",
        "colab_type": "code",
        "colab": {
          "base_uri": "https://localhost:8080/",
          "height": 204
        },
        "outputId": "3f5492cf-6193-4c0d-be8e-3a7619d4ecdd"
      },
      "source": [
        "normalizationDataset.head()"
      ],
      "execution_count": 98,
      "outputs": [
        {
          "output_type": "execute_result",
          "data": {
            "text/html": [
              "<div>\n",
              "<style scoped>\n",
              "    .dataframe tbody tr th:only-of-type {\n",
              "        vertical-align: middle;\n",
              "    }\n",
              "\n",
              "    .dataframe tbody tr th {\n",
              "        vertical-align: top;\n",
              "    }\n",
              "\n",
              "    .dataframe thead th {\n",
              "        text-align: right;\n",
              "    }\n",
              "</style>\n",
              "<table border=\"1\" class=\"dataframe\">\n",
              "  <thead>\n",
              "    <tr style=\"text-align: right;\">\n",
              "      <th></th>\n",
              "      <th>tweet</th>\n",
              "      <th>category</th>\n",
              "    </tr>\n",
              "  </thead>\n",
              "  <tbody>\n",
              "    <tr>\n",
              "      <th>0</th>\n",
              "      <td>when modi promised “minimum government maximum...</td>\n",
              "      <td>negative</td>\n",
              "    </tr>\n",
              "    <tr>\n",
              "      <th>1</th>\n",
              "      <td>talk all the nonsense and continue all the dra...</td>\n",
              "      <td>neutral</td>\n",
              "    </tr>\n",
              "    <tr>\n",
              "      <th>2</th>\n",
              "      <td>what did just say vote for modi  welcome bjp t...</td>\n",
              "      <td>positive</td>\n",
              "    </tr>\n",
              "    <tr>\n",
              "      <th>3</th>\n",
              "      <td>asking his supporters prefix chowkidar their n...</td>\n",
              "      <td>positive</td>\n",
              "    </tr>\n",
              "    <tr>\n",
              "      <th>4</th>\n",
              "      <td>answer who among these the most powerful world...</td>\n",
              "      <td>positive</td>\n",
              "    </tr>\n",
              "  </tbody>\n",
              "</table>\n",
              "</div>"
            ],
            "text/plain": [
              "                                               tweet  category\n",
              "0  when modi promised “minimum government maximum...  negative\n",
              "1  talk all the nonsense and continue all the dra...   neutral\n",
              "2  what did just say vote for modi  welcome bjp t...  positive\n",
              "3  asking his supporters prefix chowkidar their n...  positive\n",
              "4  answer who among these the most powerful world...  positive"
            ]
          },
          "metadata": {
            "tags": []
          },
          "execution_count": 98
        }
      ]
    },
    {
      "cell_type": "code",
      "metadata": {
        "id": "snnFl-qerF1X",
        "colab_type": "code",
        "colab": {
          "base_uri": "https://localhost:8080/",
          "height": 204
        },
        "outputId": "a3283709-dabb-4c1b-a933-c8505af8e464"
      },
      "source": [
        "#mormalization dataset\n",
        "import re\n",
        "\n",
        "def cleanLowerCase(textDataset):\n",
        "  return str(textDataset).lower()\n",
        "\n",
        "normalizationDataset['tweet'] = normalizationDataset['tweet'].apply(cleanLowerCase)\n",
        "normalizationDataset['category'] = normalizationDataset['category'].apply(cleanLowerCase)\n",
        "\n",
        "normalizationDataset.head()"
      ],
      "execution_count": 99,
      "outputs": [
        {
          "output_type": "execute_result",
          "data": {
            "text/html": [
              "<div>\n",
              "<style scoped>\n",
              "    .dataframe tbody tr th:only-of-type {\n",
              "        vertical-align: middle;\n",
              "    }\n",
              "\n",
              "    .dataframe tbody tr th {\n",
              "        vertical-align: top;\n",
              "    }\n",
              "\n",
              "    .dataframe thead th {\n",
              "        text-align: right;\n",
              "    }\n",
              "</style>\n",
              "<table border=\"1\" class=\"dataframe\">\n",
              "  <thead>\n",
              "    <tr style=\"text-align: right;\">\n",
              "      <th></th>\n",
              "      <th>tweet</th>\n",
              "      <th>category</th>\n",
              "    </tr>\n",
              "  </thead>\n",
              "  <tbody>\n",
              "    <tr>\n",
              "      <th>0</th>\n",
              "      <td>when modi promised “minimum government maximum...</td>\n",
              "      <td>negative</td>\n",
              "    </tr>\n",
              "    <tr>\n",
              "      <th>1</th>\n",
              "      <td>talk all the nonsense and continue all the dra...</td>\n",
              "      <td>neutral</td>\n",
              "    </tr>\n",
              "    <tr>\n",
              "      <th>2</th>\n",
              "      <td>what did just say vote for modi  welcome bjp t...</td>\n",
              "      <td>positive</td>\n",
              "    </tr>\n",
              "    <tr>\n",
              "      <th>3</th>\n",
              "      <td>asking his supporters prefix chowkidar their n...</td>\n",
              "      <td>positive</td>\n",
              "    </tr>\n",
              "    <tr>\n",
              "      <th>4</th>\n",
              "      <td>answer who among these the most powerful world...</td>\n",
              "      <td>positive</td>\n",
              "    </tr>\n",
              "  </tbody>\n",
              "</table>\n",
              "</div>"
            ],
            "text/plain": [
              "                                               tweet  category\n",
              "0  when modi promised “minimum government maximum...  negative\n",
              "1  talk all the nonsense and continue all the dra...   neutral\n",
              "2  what did just say vote for modi  welcome bjp t...  positive\n",
              "3  asking his supporters prefix chowkidar their n...  positive\n",
              "4  answer who among these the most powerful world...  positive"
            ]
          },
          "metadata": {
            "tags": []
          },
          "execution_count": 99
        }
      ]
    },
    {
      "cell_type": "code",
      "metadata": {
        "id": "yeQtf1GTwvOc",
        "colab_type": "code",
        "colab": {
          "base_uri": "https://localhost:8080/",
          "height": 34
        },
        "outputId": "01060634-3673-4c23-a9d4-66b881fd2523"
      },
      "source": [
        "labelCollm = normalizationDataset.category\n",
        "labelCollm = labelCollm.unique()\n",
        "print('Class {}'.format(labelCollm))"
      ],
      "execution_count": 100,
      "outputs": [
        {
          "output_type": "stream",
          "text": [
            "Class ['negative' 'neutral' 'positive']\n"
          ],
          "name": "stdout"
        }
      ]
    },
    {
      "cell_type": "code",
      "metadata": {
        "id": "jlB7p3uneufI",
        "colab_type": "code",
        "colab": {
          "base_uri": "https://localhost:8080/",
          "height": 204
        },
        "outputId": "05683740-28f3-4e97-ce0e-a104c251f6f7"
      },
      "source": [
        "category = pd.get_dummies(normalizationDataset.category)\n",
        "hotEncodingDataset = pd.concat([normalizationDataset,category],axis=1)\n",
        "hotEncodingDataset = hotEncodingDataset.drop(columns='category')\n",
        "hotEncodingDataset.head()"
      ],
      "execution_count": 101,
      "outputs": [
        {
          "output_type": "execute_result",
          "data": {
            "text/html": [
              "<div>\n",
              "<style scoped>\n",
              "    .dataframe tbody tr th:only-of-type {\n",
              "        vertical-align: middle;\n",
              "    }\n",
              "\n",
              "    .dataframe tbody tr th {\n",
              "        vertical-align: top;\n",
              "    }\n",
              "\n",
              "    .dataframe thead th {\n",
              "        text-align: right;\n",
              "    }\n",
              "</style>\n",
              "<table border=\"1\" class=\"dataframe\">\n",
              "  <thead>\n",
              "    <tr style=\"text-align: right;\">\n",
              "      <th></th>\n",
              "      <th>tweet</th>\n",
              "      <th>negative</th>\n",
              "      <th>neutral</th>\n",
              "      <th>positive</th>\n",
              "    </tr>\n",
              "  </thead>\n",
              "  <tbody>\n",
              "    <tr>\n",
              "      <th>0</th>\n",
              "      <td>when modi promised “minimum government maximum...</td>\n",
              "      <td>1</td>\n",
              "      <td>0</td>\n",
              "      <td>0</td>\n",
              "    </tr>\n",
              "    <tr>\n",
              "      <th>1</th>\n",
              "      <td>talk all the nonsense and continue all the dra...</td>\n",
              "      <td>0</td>\n",
              "      <td>1</td>\n",
              "      <td>0</td>\n",
              "    </tr>\n",
              "    <tr>\n",
              "      <th>2</th>\n",
              "      <td>what did just say vote for modi  welcome bjp t...</td>\n",
              "      <td>0</td>\n",
              "      <td>0</td>\n",
              "      <td>1</td>\n",
              "    </tr>\n",
              "    <tr>\n",
              "      <th>3</th>\n",
              "      <td>asking his supporters prefix chowkidar their n...</td>\n",
              "      <td>0</td>\n",
              "      <td>0</td>\n",
              "      <td>1</td>\n",
              "    </tr>\n",
              "    <tr>\n",
              "      <th>4</th>\n",
              "      <td>answer who among these the most powerful world...</td>\n",
              "      <td>0</td>\n",
              "      <td>0</td>\n",
              "      <td>1</td>\n",
              "    </tr>\n",
              "  </tbody>\n",
              "</table>\n",
              "</div>"
            ],
            "text/plain": [
              "                                               tweet  ...  positive\n",
              "0  when modi promised “minimum government maximum...  ...         0\n",
              "1  talk all the nonsense and continue all the dra...  ...         0\n",
              "2  what did just say vote for modi  welcome bjp t...  ...         1\n",
              "3  asking his supporters prefix chowkidar their n...  ...         1\n",
              "4  answer who among these the most powerful world...  ...         1\n",
              "\n",
              "[5 rows x 4 columns]"
            ]
          },
          "metadata": {
            "tags": []
          },
          "execution_count": 101
        }
      ]
    },
    {
      "cell_type": "code",
      "metadata": {
        "id": "1XzSUAQZmYHW",
        "colab_type": "code",
        "colab": {
          "base_uri": "https://localhost:8080/",
          "height": 34
        },
        "outputId": "ab9c2dac-39b1-4755-ac73-162dd0f2e49a"
      },
      "source": [
        "hotEncodingDataset.shape"
      ],
      "execution_count": 64,
      "outputs": [
        {
          "output_type": "execute_result",
          "data": {
            "text/plain": [
              "(162980, 4)"
            ]
          },
          "metadata": {
            "tags": []
          },
          "execution_count": 64
        }
      ]
    },
    {
      "cell_type": "code",
      "metadata": {
        "id": "hAL_kpizHq9E",
        "colab_type": "code",
        "colab": {
          "base_uri": "https://localhost:8080/",
          "height": 85
        },
        "outputId": "6a3b405c-39f1-45d6-bef4-6027cc7c9ed5"
      },
      "source": [
        "#Data split\n",
        "dataHeadlineDescription = hotEncodingDataset['tweet'].values\n",
        "label = hotEncodingDataset[labelCollm].values\n",
        "dataHeadlineDescription_train,dataHeadlineDescription_test,label_train,label_test = train_test_split(dataHeadlineDescription,label,test_size=testSize)\n",
        "print('Training Shape {}'.format(dataHeadlineDescription_train.shape))\n",
        "print('Training Test shape  {}'.format(dataHeadlineDescription_test.shape))\n",
        "print('Training label shape {}'.format(label_train.shape))\n",
        "print('test label shape {}'.format(label_test.shape))"
      ],
      "execution_count": 102,
      "outputs": [
        {
          "output_type": "stream",
          "text": [
            "Training Shape (130384,)\n",
            "Training Test shape  (32596,)\n",
            "Training label shape (130384, 3)\n",
            "test label shape (32596, 3)\n"
          ],
          "name": "stdout"
        }
      ]
    },
    {
      "cell_type": "code",
      "metadata": {
        "id": "Ys6zyE1_Ity0",
        "colab_type": "code",
        "colab": {
          "base_uri": "https://localhost:8080/",
          "height": 34
        },
        "outputId": "1cf3522c-5c60-448e-e7a9-0d35d7e848ae"
      },
      "source": [
        "#Tokenizer \n",
        "tokenizer = Tokenizer(num_words=vocabSize,oov_token=oovTok)\n",
        "\n",
        "\n",
        "tokenizer.fit_on_texts(dataHeadlineDescription_train)\n",
        "tokenizer.fit_on_texts(dataHeadlineDescription_test)\n",
        "\n",
        "trainSequences = tokenizer.texts_to_sequences(dataHeadlineDescription_train)\n",
        "testSequences = tokenizer.texts_to_sequences(dataHeadlineDescription_test)\n",
        "\n",
        "\n",
        "trainPadded = pad_sequences(\n",
        "                            trainSequences,\n",
        "                            maxlen=maxlength,\n",
        "                            padding=padding_type,\n",
        "                            truncating=trunc_type\n",
        "    )\n",
        "testpadded = pad_sequences(\n",
        "                           testSequences,\n",
        "                           maxlen=maxlength,\n",
        "                           padding=padding_type,\n",
        "                           truncating=trunc_type\n",
        "    )\n",
        "\n",
        "idx = len(tokenizer.word_index)\n",
        "print('{} unique token'.format(idx))"
      ],
      "execution_count": 103,
      "outputs": [
        {
          "output_type": "stream",
          "text": [
            "113680 unique token\n"
          ],
          "name": "stdout"
        }
      ]
    },
    {
      "cell_type": "code",
      "metadata": {
        "id": "qXp5aw5f6rib",
        "colab_type": "code",
        "colab": {
          "base_uri": "https://localhost:8080/",
          "height": 51
        },
        "outputId": "76dc5846-f31a-4628-aa03-4e972edab056"
      },
      "source": [
        "print('training Padding shape {}'.format(trainPadded.shape))\n",
        "print('test Padding shape {}'.format(testpadded.shape))"
      ],
      "execution_count": 104,
      "outputs": [
        {
          "output_type": "stream",
          "text": [
            "training Padding shape (130384, 100)\n",
            "test Padding shape (32596, 100)\n"
          ],
          "name": "stdout"
        }
      ]
    },
    {
      "cell_type": "code",
      "metadata": {
        "id": "SSStqmL3HvrQ",
        "colab_type": "code",
        "colab": {
          "base_uri": "https://localhost:8080/",
          "height": 493
        },
        "outputId": "a7b885ec-2d9c-4ef0-b204-507e2b155031"
      },
      "source": [
        "#Creating Model\n",
        "from tensorflow import keras\n",
        "from tensorflow.keras.layers import Embedding,Dense,Conv1D,LSTM,Flatten,GlobalAveragePooling1D,Bidirectional,Dropout\n",
        "from tensorflow.keras.optimizers import Adam\n",
        "\n",
        "\n",
        "\n",
        "model = keras.models.Sequential()\n",
        "model.add(Embedding(idx+1,embeddedDim,input_length=maxlength))\n",
        "model.add(Bidirectional(LSTM(100,return_sequences=True)))\n",
        "model.add(Bidirectional(LSTM(100,return_sequences=True)))\n",
        "model.add(Bidirectional(LSTM(64,return_sequences=True)))\n",
        "model.add(Bidirectional(LSTM(32)))\n",
        "model.add(Flatten())\n",
        "model.add(Dropout(0.5))\n",
        "model.add(Dense(1024,activation='relu'))\n",
        "model.add(Dense(embeddedDim,activation='relu'))\n",
        "model.add(Dense(3,activation='softmax'))\n",
        "\n",
        "optimizer = Adam(lr=0.001)\n",
        "model.compile(loss='categorical_crossentropy',\n",
        "              optimizer=optimizer,\n",
        "              metrics=['accuracy'])\n",
        "model.summary()"
      ],
      "execution_count": 114,
      "outputs": [
        {
          "output_type": "stream",
          "text": [
            "Model: \"sequential_8\"\n",
            "_________________________________________________________________\n",
            "Layer (type)                 Output Shape              Param #   \n",
            "=================================================================\n",
            "embedding_8 (Embedding)      (None, 100, 64)           7275584   \n",
            "_________________________________________________________________\n",
            "bidirectional_32 (Bidirectio (None, 100, 200)          132000    \n",
            "_________________________________________________________________\n",
            "bidirectional_33 (Bidirectio (None, 100, 200)          240800    \n",
            "_________________________________________________________________\n",
            "bidirectional_34 (Bidirectio (None, 100, 128)          135680    \n",
            "_________________________________________________________________\n",
            "bidirectional_35 (Bidirectio (None, 64)                41216     \n",
            "_________________________________________________________________\n",
            "flatten_8 (Flatten)          (None, 64)                0         \n",
            "_________________________________________________________________\n",
            "dropout_8 (Dropout)          (None, 64)                0         \n",
            "_________________________________________________________________\n",
            "dense_24 (Dense)             (None, 1024)              66560     \n",
            "_________________________________________________________________\n",
            "dense_25 (Dense)             (None, 64)                65600     \n",
            "_________________________________________________________________\n",
            "dense_26 (Dense)             (None, 3)                 195       \n",
            "=================================================================\n",
            "Total params: 7,957,635\n",
            "Trainable params: 7,957,635\n",
            "Non-trainable params: 0\n",
            "_________________________________________________________________\n"
          ],
          "name": "stdout"
        }
      ]
    },
    {
      "cell_type": "code",
      "metadata": {
        "id": "7NsLPAyxH04_",
        "colab_type": "code",
        "colab": {
          "base_uri": "https://localhost:8080/",
          "height": 1000
        },
        "outputId": "2d693d36-a878-41a9-bf78-960855c48fd3"
      },
      "source": [
        "#Fit model\n",
        "\n",
        "ACC_TRESHOLD = 0.96\n",
        "class Callback(tf.keras.callbacks.Callback):\n",
        "  def on_epoch_end(self,epoch,logs={}):\n",
        "    if (logs.get('accuracy') > ACC_TRESHOLD):     \n",
        "      print('\\n{}% accuracy reached,end the Training\\n'.format(ACC_TRESHOLD*100))\n",
        "      print('\\nActual accuracy {}%\\n'.format(logs.get('accuracy')*100))\n",
        "      self.model.stop_training = True\n",
        "     \n",
        "checkpoint_filepath = '/tmp/NLPTwiter/checkpoint/TwiterModelSentimentAnalisis/'\n",
        "model_checkpoint_callback = tf.keras.callbacks.ModelCheckpoint(\n",
        "    filepath=checkpoint_filepath,\n",
        "    save_weights_only=True,\n",
        "    monitor='accuracy',\n",
        "    mode='max',\n",
        "    save_best_only=True)\n",
        "saveLog =  tf.keras.callbacks.CSVLogger('/tmp/NLPTwiter/trainingTwiterLog.csv',separator=',',append=True)\n",
        "\n",
        "callbackStop = Callback()\n",
        "\n",
        "with tf.device('/device:GPU:0'):\n",
        "  history = model.fit(\n",
        "    trainPadded,\n",
        "    label_train,\n",
        "    epochs=100,\n",
        "    validation_data = (testpadded,label_test),\n",
        "    steps_per_epoch=100,\n",
        "    batch_size = batchSize,\n",
        "    use_multiprocessing=True,\n",
        "    validation_steps=50,\n",
        "    callbacks=[callbackStop,model_checkpoint_callback,saveLog]\n",
        "    )\n",
        "  \n",
        "  model.save('/tmp/NLPTwiter/CategoryModel_3ClassTwiter.h5')\n",
        "  print('\\nTraining Selesai')"
      ],
      "execution_count": 118,
      "outputs": [
        {
          "output_type": "stream",
          "text": [
            "Epoch 1/100\n",
            "100/100 [==============================] - 15s 149ms/step - loss: 0.9330 - accuracy: 0.5591 - val_loss: 0.7489 - val_accuracy: 0.6722\n",
            "Epoch 2/100\n",
            "100/100 [==============================] - 13s 127ms/step - loss: 0.6021 - accuracy: 0.7534 - val_loss: 0.5380 - val_accuracy: 0.7950\n",
            "Epoch 3/100\n",
            "100/100 [==============================] - 13s 128ms/step - loss: 0.4730 - accuracy: 0.8295 - val_loss: 0.4348 - val_accuracy: 0.8508\n",
            "Epoch 4/100\n",
            "100/100 [==============================] - 13s 128ms/step - loss: 0.3951 - accuracy: 0.8745 - val_loss: 0.3845 - val_accuracy: 0.8778\n",
            "Epoch 5/100\n",
            "100/100 [==============================] - 13s 127ms/step - loss: 0.3439 - accuracy: 0.8905 - val_loss: 0.3656 - val_accuracy: 0.8861\n",
            "Epoch 6/100\n",
            "100/100 [==============================] - 13s 127ms/step - loss: 0.3116 - accuracy: 0.9000 - val_loss: 0.3129 - val_accuracy: 0.8944\n",
            "Epoch 7/100\n",
            "100/100 [==============================] - 13s 127ms/step - loss: 0.3016 - accuracy: 0.9037 - val_loss: 0.3079 - val_accuracy: 0.9039\n",
            "Epoch 8/100\n",
            "100/100 [==============================] - 13s 128ms/step - loss: 0.2898 - accuracy: 0.9101 - val_loss: 0.2747 - val_accuracy: 0.9159\n",
            "Epoch 9/100\n",
            "100/100 [==============================] - 13s 130ms/step - loss: 0.2597 - accuracy: 0.9239 - val_loss: 0.2564 - val_accuracy: 0.9220\n",
            "Epoch 10/100\n",
            "100/100 [==============================] - 13s 126ms/step - loss: 0.2325 - accuracy: 0.9328 - val_loss: 0.2422 - val_accuracy: 0.9272\n",
            "Epoch 11/100\n",
            "100/100 [==============================] - 13s 126ms/step - loss: 0.2137 - accuracy: 0.9393 - val_loss: 0.2259 - val_accuracy: 0.9317\n",
            "Epoch 12/100\n",
            "100/100 [==============================] - 13s 127ms/step - loss: 0.2062 - accuracy: 0.9422 - val_loss: 0.2357 - val_accuracy: 0.9333\n",
            "Epoch 13/100\n",
            "100/100 [==============================] - 13s 125ms/step - loss: 0.2147 - accuracy: 0.9389 - val_loss: 0.2182 - val_accuracy: 0.9358\n",
            "Epoch 14/100\n",
            "100/100 [==============================] - 13s 126ms/step - loss: 0.1947 - accuracy: 0.9462 - val_loss: 0.2187 - val_accuracy: 0.9361\n",
            "Epoch 15/100\n",
            "100/100 [==============================] - 12s 124ms/step - loss: 0.1947 - accuracy: 0.9445 - val_loss: 0.2192 - val_accuracy: 0.9391\n",
            "Epoch 16/100\n",
            "100/100 [==============================] - 13s 126ms/step - loss: 0.1889 - accuracy: 0.9491 - val_loss: 0.2110 - val_accuracy: 0.9416\n",
            "Epoch 17/100\n",
            "100/100 [==============================] - 13s 126ms/step - loss: 0.1800 - accuracy: 0.9494 - val_loss: 0.2264 - val_accuracy: 0.9370\n",
            "Epoch 18/100\n",
            "100/100 [==============================] - 12s 124ms/step - loss: 0.1864 - accuracy: 0.9489 - val_loss: 0.2111 - val_accuracy: 0.9381\n",
            "Epoch 19/100\n",
            "100/100 [==============================] - 13s 126ms/step - loss: 0.1843 - accuracy: 0.9499 - val_loss: 0.2087 - val_accuracy: 0.9414\n",
            "Epoch 20/100\n",
            "100/100 [==============================] - 13s 126ms/step - loss: 0.1770 - accuracy: 0.9502 - val_loss: 0.2085 - val_accuracy: 0.9416\n",
            "Epoch 21/100\n",
            "100/100 [==============================] - 13s 126ms/step - loss: 0.1629 - accuracy: 0.9555 - val_loss: 0.2082 - val_accuracy: 0.9434\n",
            "Epoch 22/100\n",
            "100/100 [==============================] - 12s 124ms/step - loss: 0.1686 - accuracy: 0.9535 - val_loss: 0.2002 - val_accuracy: 0.9436\n",
            "Epoch 23/100\n",
            "100/100 [==============================] - 12s 123ms/step - loss: 0.1610 - accuracy: 0.9552 - val_loss: 0.2037 - val_accuracy: 0.9428\n",
            "Epoch 24/100\n",
            "100/100 [==============================] - 12s 124ms/step - loss: 0.1719 - accuracy: 0.9539 - val_loss: 0.2189 - val_accuracy: 0.9400\n",
            "Epoch 25/100\n",
            "100/100 [==============================] - 12s 124ms/step - loss: 0.1698 - accuracy: 0.9530 - val_loss: 0.1985 - val_accuracy: 0.9444\n",
            "Epoch 26/100\n",
            "100/100 [==============================] - 12s 124ms/step - loss: 0.1632 - accuracy: 0.9545 - val_loss: 0.1941 - val_accuracy: 0.9472\n",
            "Epoch 27/100\n",
            "100/100 [==============================] - 12s 124ms/step - loss: 0.1824 - accuracy: 0.9498 - val_loss: 0.2019 - val_accuracy: 0.9469\n",
            "Epoch 28/100\n",
            "100/100 [==============================] - 12s 125ms/step - loss: 0.1643 - accuracy: 0.9555 - val_loss: 0.2115 - val_accuracy: 0.9456\n",
            "Epoch 29/100\n",
            "100/100 [==============================] - 12s 124ms/step - loss: 0.1645 - accuracy: 0.9549 - val_loss: 0.1947 - val_accuracy: 0.9452\n",
            "Epoch 30/100\n",
            "100/100 [==============================] - 13s 125ms/step - loss: 0.1586 - accuracy: 0.9572 - val_loss: 0.1989 - val_accuracy: 0.9483\n",
            "Epoch 31/100\n",
            "100/100 [==============================] - 12s 124ms/step - loss: 0.1578 - accuracy: 0.9570 - val_loss: 0.1905 - val_accuracy: 0.9488\n",
            "Epoch 32/100\n",
            "100/100 [==============================] - 13s 126ms/step - loss: 0.1492 - accuracy: 0.9595 - val_loss: 0.1974 - val_accuracy: 0.9498\n",
            "Epoch 33/100\n",
            "100/100 [==============================] - 13s 125ms/step - loss: 0.1504 - accuracy: 0.9587 - val_loss: 0.1869 - val_accuracy: 0.9506\n",
            "Epoch 34/100\n",
            "100/100 [==============================] - 12s 123ms/step - loss: 0.1556 - accuracy: 0.9575 - val_loss: 0.2175 - val_accuracy: 0.9502\n",
            "Epoch 35/100\n",
            "100/100 [==============================] - 12s 124ms/step - loss: 0.1477 - accuracy: 0.9594 - val_loss: 0.1976 - val_accuracy: 0.9452\n",
            "Epoch 36/100\n",
            "100/100 [==============================] - ETA: 0s - loss: 0.1450 - accuracy: 0.9602\n",
            "96.0% accuracy reached,end the Training\n",
            "\n",
            "\n",
            "Actual accuracy 96.0156261920929%\n",
            "\n",
            "100/100 [==============================] - 13s 126ms/step - loss: 0.1450 - accuracy: 0.9602 - val_loss: 0.2067 - val_accuracy: 0.9508\n",
            "\n",
            "Training Selesai\n"
          ],
          "name": "stdout"
        }
      ]
    },
    {
      "cell_type": "code",
      "metadata": {
        "id": "97L3UGTgH4Ra",
        "colab_type": "code",
        "colab": {
          "base_uri": "https://localhost:8080/",
          "height": 573
        },
        "outputId": "f8d6d609-20e5-4d56-cf8b-b9886b2e5073"
      },
      "source": [
        "#plotting\n",
        "import matplotlib.pyplot as plt\n",
        "\n",
        "loss = history.history['loss']\n",
        "val_loss = history.history['val_loss']\n",
        "acc = history.history['accuracy']\n",
        "val_acc = history.history['val_accuracy']\n",
        "epoch = range(len(acc))\n",
        "\n",
        "plt.plot(epoch,acc,label='accuracy')\n",
        "plt.plot(epoch,loss,label='training loss')\n",
        "plt.xlabel('Epoch')\n",
        "plt.ylabel('accuracy')\n",
        "plt.title('Training Accuracy and Loss')\n",
        "plt.legend()\n",
        "plt.show()\n",
        "plt.plot(epoch,val_acc,label='validation accuracy')\n",
        "plt.plot(epoch,val_loss,label='validation loss')\n",
        "plt.xlabel('Epoch')\n",
        "plt.ylabel('accuracy')\n",
        "plt.title('Validation Acuracy and Loss')\n",
        "plt.legend()\n",
        "plt.show()"
      ],
      "execution_count": 119,
      "outputs": [
        {
          "output_type": "display_data",
          "data": {
            "image/png": "[encoded data removed]",
            "text/plain": [
              "<Figure size 432x288 with 1 Axes>"
            ]
          },
          "metadata": {
            "tags": [],
            "needs_background": "light"
          }
        },
        {
          "output_type": "display_data",
          "data": {
            "image/png": "[encoded data removed]",
            "text/plain": [
              "<Figure size 432x288 with 1 Axes>"
            ]
          },
          "metadata": {
            "tags": [],
            "needs_background": "light"
          }
        }
      ]
    },
    {
      "cell_type": "code",
      "metadata": {
        "id": "qyjIccUBdamH",
        "colab_type": "code",
        "colab": {}
      },
      "source": [
        "def Predict(textPredict):\n",
        "  paddedtext = pad_sequences(tokenizer.texts_to_sequences([textPredict]),maxlen=maxlength,truncating=trunc_type,padding=padding_type)\n",
        "\n",
        "  prediction = model.predict(paddedtext,batch_size=batchSize)\n",
        "  label_encoder = preprocessing.LabelEncoder()\n",
        "\n",
        "  if (prediction[0,0] > prediction[0,1]) and (prediction[0,0] > prediction[0,2]):\n",
        "    idx_p = 0\n",
        "  elif (prediction[0,1] > prediction[0,0]) and (prediction[0,1] > prediction[0,2]):\n",
        "    idx_p = 1\n",
        "  elif (prediction[0,2] > prediction[0,0]) and (prediction[0,2] > prediction[0,1]):\n",
        "    idx_p = 2\n",
        "  print('\\nTweet: {}'.format(textPredict))\n",
        "  print('Sentiment : {} \\n'.format(labelCollm[idx_p]))"
      ],
      "execution_count": 125,
      "outputs": []
    },
    {
      "cell_type": "code",
      "metadata": {
        "id": "TPuLMrRwMHHT",
        "colab_type": "code",
        "colab": {
          "base_uri": "https://localhost:8080/",
          "height": 289
        },
        "outputId": "746a939a-05c4-48f4-9fcf-5b329e85eeb9"
      },
      "source": [
        "#Prediction\n",
        "from sklearn import preprocessing\n",
        "text_1 = 'answer who among these the most powerful world i been seen'\n",
        "text_2 = 'whats its is so bad i does want it its a trast phone'\n",
        "text_3 = 'not bad this phone pretty good'\n",
        "text_4 = 'hi buddy you looks so handsome i like you babe'\n",
        "Predict(text_1)\n",
        "Predict(text_2)\n",
        "Predict(text_3)\n",
        "Predict(text_4)"
      ],
      "execution_count": 126,
      "outputs": [
        {
          "output_type": "stream",
          "text": [
            "\n",
            "Tweet: answer who among these the most powerful world i been seen\n",
            "Sentiment : positive \n",
            "\n",
            "\n",
            "Tweet: whats its is so bad i does want it its a trast phone\n",
            "Sentiment : negative \n",
            "\n",
            "\n",
            "Tweet: not bad this phone pretty good\n",
            "Sentiment : positive \n",
            "\n",
            "\n",
            "Tweet: hi buddy you looks so handsome i like you babe\n",
            "Sentiment : neutral \n",
            "\n"
          ],
          "name": "stdout"
        }
      ]
    }
  ]
}