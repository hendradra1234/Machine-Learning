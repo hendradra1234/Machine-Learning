{
  "nbformat": 4,
  "nbformat_minor": 0,
  "metadata": {
    "colab": {
      "name": "Submission TimeSeries(Power Plant).ipynb",
      "provenance": []
    },
    "kernelspec": {
      "name": "python3",
      "display_name": "Python 3"
    }
  },
  "cells": [
    {
      "cell_type": "code",
      "metadata": {
        "id": "TYI4cfg_ow-W",
        "colab_type": "code",
        "colab": {
          "base_uri": "https://localhost:8080/",
          "height": 35
        },
        "outputId": "6e12d0ab-d64d-4b6e-9a93-686700e8af83"
      },
      "source": [
        "from google.colab import drive\n",
        "import os\n",
        "\n",
        "drive.mount('/content/gdrive/')\n",
        "os.environ['KAGGLE_CONFIG_DIR'] = '/content/gdrive/My Drive/Kaggle'\n",
        "zipfile = 'hourly-energy-consumption.zip'\n",
        "extfile = 'time_seriesSubmissioPowerPlant'"
      ],
      "execution_count": null,
      "outputs": [
        {
          "output_type": "stream",
          "text": [
            "Drive already mounted at /content/gdrive/; to attempt to forcibly remount, call drive.mount(\"/content/gdrive/\", force_remount=True).\n"
          ],
          "name": "stdout"
        }
      ]
    },
    {
      "cell_type": "code",
      "metadata": {
        "id": "f6wwlq1LXSb_",
        "colab_type": "code",
        "colab": {
          "base_uri": "https://localhost:8080/",
          "height": 35
        },
        "outputId": "9d2664f4-a8a2-44be-dbec-e93b61deb0af"
      },
      "source": [
        "cd /content/gdrive/My Drive/Kaggle"
      ],
      "execution_count": null,
      "outputs": [
        {
          "output_type": "stream",
          "text": [
            "/content/gdrive/My Drive/Kaggle\n"
          ],
          "name": "stdout"
        }
      ]
    },
    {
      "cell_type": "code",
      "metadata": {
        "id": "BbOKJstQoEC2",
        "colab_type": "code",
        "colab": {
          "base_uri": "https://localhost:8080/",
          "height": 35
        },
        "outputId": "35610f8a-5761-45e5-ebc5-661143f95369"
      },
      "source": [
        "!kaggle datasets download -d robikscube/hourly-energy-consumption"
      ],
      "execution_count": null,
      "outputs": [
        {
          "output_type": "stream",
          "text": [
            "hourly-energy-consumption.zip: Skipping, found more recently modified local copy (use --force to force download)\n"
          ],
          "name": "stdout"
        }
      ]
    },
    {
      "cell_type": "code",
      "metadata": {
        "id": "Hwc3KkU9ddcl",
        "colab_type": "code",
        "colab": {
          "base_uri": "https://localhost:8080/",
          "height": 454
        },
        "outputId": "e0607956-dfde-4f0d-8c4f-24a0161b2003"
      },
      "source": [
        "ls"
      ],
      "execution_count": null,
      "outputs": [
        {
          "output_type": "stream",
          "text": [
            " CategoryModel_3ClassTwiter.h5\n",
            " CategoryModel_5Class.h5\n",
            " CategoryModel.h5\n",
            " daily-climate-time-series-data.zip\n",
            " \u001b[0m\u001b[01;34mdataset\u001b[0m/\n",
            " \u001b[01;34mdatasetCategory\u001b[0m/\n",
            " hourly-energy-consumption.zip\n",
            " \u001b[01;34mimdb\u001b[0m/\n",
            " imdb-synopsis-indonesian-movies.zip\n",
            " kaggle.json\n",
            " news-category-dataset.zip\n",
            " \u001b[01;34mtime_series\u001b[0m/\n",
            "'TimeSeriesmodel(Stock).h5'\n",
            " \u001b[01;34mtime_seriesSubmission\u001b[0m/\n",
            " \u001b[01;34mtime_seriesSubmissionStock\u001b[0m/\n",
            " trainingLog\n",
            " trainingLog.csv\n",
            " trainingSubmissionTimeSeriesLog.csv\n",
            " trainingTwiterLog.csv\n",
            " \u001b[01;34mtwiterredditsentimentanalyis\u001b[0m/\n",
            " twitter-and-reddit-sentimental-analysis-dataset.zip\n",
            " us-historical-stock-prices-with-earnings-data.zip\n",
            " vehicle-data-set.zip\n",
            " VehicleModel.h5\n"
          ],
          "name": "stdout"
        }
      ]
    },
    {
      "cell_type": "code",
      "metadata": {
        "id": "-JfpjvI9epbg",
        "colab_type": "code",
        "colab": {
          "base_uri": "https://localhost:8080/",
          "height": 54
        },
        "outputId": "4796d536-0960-4a73-e9be-15022068f57e"
      },
      "source": [
        "import zipfile as zf\n",
        "\n",
        "try:\n",
        "  extFile = zf.ZipFile(zipfile)\n",
        "  extFile.extractall(extfile)\n",
        "  extFile.close()\n",
        "  print('extraksi dataset selesai')\n",
        "except(FileExistsError,FileNotFoundError):\n",
        "  print('Dataset tidak ditemukan')\n",
        "except:\n",
        "  print('terjadi kesalahan')\n",
        "finally:\n",
        "  print('operation terminated')"
      ],
      "execution_count": null,
      "outputs": [
        {
          "output_type": "stream",
          "text": [
            "extraksi dataset selesai\n",
            "operation terminated\n"
          ],
          "name": "stdout"
        }
      ]
    },
    {
      "cell_type": "code",
      "metadata": {
        "id": "LJHU8QQbNeTJ",
        "colab_type": "code",
        "colab": {
          "base_uri": "https://localhost:8080/",
          "height": 272
        },
        "outputId": "4173c9e8-bab9-43a2-a0e3-d3645d7a3fa0"
      },
      "source": [
        "os.listdir(extfile)"
      ],
      "execution_count": null,
      "outputs": [
        {
          "output_type": "execute_result",
          "data": {
            "text/plain": [
              "['AEP_hourly.csv',\n",
              " 'COMED_hourly.csv',\n",
              " 'DAYTON_hourly.csv',\n",
              " 'DEOK_hourly.csv',\n",
              " 'DOM_hourly.csv',\n",
              " 'DUQ_hourly.csv',\n",
              " 'EKPC_hourly.csv',\n",
              " 'FE_hourly.csv',\n",
              " 'NI_hourly.csv',\n",
              " 'PJME_hourly.csv',\n",
              " 'PJMW_hourly.csv',\n",
              " 'PJM_Load_hourly.csv',\n",
              " 'est_hourly.paruqet',\n",
              " 'pjm_hourly_est.csv']"
            ]
          },
          "metadata": {
            "tags": []
          },
          "execution_count": 11
        }
      ]
    },
    {
      "cell_type": "code",
      "metadata": {
        "id": "yFq9ohYUCuQM",
        "colab_type": "code",
        "colab": {
          "base_uri": "https://localhost:8080/",
          "height": 54
        },
        "outputId": "9d2161ce-9e23-4a96-e329-971fbc5d629c"
      },
      "source": [
        "dir = os.listdir(extfile)\n",
        "datasetdir1 = os.path.join(extfile,dir[9])\n",
        "datasetdir2 = os.path.join(extfile,dir[11])\n",
        "\n",
        "print('Power Plan one directory: {}'.format(datasetdir1))\n",
        "print('Power Plan two directory: {}'.format(datasetdir2))"
      ],
      "execution_count": null,
      "outputs": [
        {
          "output_type": "stream",
          "text": [
            "Power Plan one directory: time_seriesSubmissioPowerPlant/PJME_hourly.csv\n",
            "Power Plan two directory: time_seriesSubmissioPowerPlant/PJM_Load_hourly.csv\n"
          ],
          "name": "stdout"
        }
      ]
    },
    {
      "cell_type": "code",
      "metadata": {
        "id": "u5pkT4lH3TLM",
        "colab_type": "code",
        "colab": {}
      },
      "source": [
        "import pandas as pd\n",
        "\n",
        "loadData_one = pd.read_csv(datasetdir1,parse_dates=['Datetime'])\n",
        "loadData_two = pd.read_csv(datasetdir2,parse_dates=['Datetime'])"
      ],
      "execution_count": null,
      "outputs": []
    },
    {
      "cell_type": "code",
      "metadata": {
        "id": "LyZGst0o2j2a",
        "colab_type": "code",
        "colab": {
          "base_uri": "https://localhost:8080/",
          "height": 198
        },
        "outputId": "d0d1e1d3-0a84-457a-a538-1fc807c65d97"
      },
      "source": [
        "loadData_one.head()"
      ],
      "execution_count": null,
      "outputs": [
        {
          "output_type": "execute_result",
          "data": {
            "text/html": [
              "<div>\n",
              "<style scoped>\n",
              "    .dataframe tbody tr th:only-of-type {\n",
              "        vertical-align: middle;\n",
              "    }\n",
              "\n",
              "    .dataframe tbody tr th {\n",
              "        vertical-align: top;\n",
              "    }\n",
              "\n",
              "    .dataframe thead th {\n",
              "        text-align: right;\n",
              "    }\n",
              "</style>\n",
              "<table border=\"1\" class=\"dataframe\">\n",
              "  <thead>\n",
              "    <tr style=\"text-align: right;\">\n",
              "      <th></th>\n",
              "      <th>Datetime</th>\n",
              "      <th>PJME_MW</th>\n",
              "    </tr>\n",
              "  </thead>\n",
              "  <tbody>\n",
              "    <tr>\n",
              "      <th>0</th>\n",
              "      <td>2002-12-31 01:00:00</td>\n",
              "      <td>26498.0</td>\n",
              "    </tr>\n",
              "    <tr>\n",
              "      <th>1</th>\n",
              "      <td>2002-12-31 02:00:00</td>\n",
              "      <td>25147.0</td>\n",
              "    </tr>\n",
              "    <tr>\n",
              "      <th>2</th>\n",
              "      <td>2002-12-31 03:00:00</td>\n",
              "      <td>24574.0</td>\n",
              "    </tr>\n",
              "    <tr>\n",
              "      <th>3</th>\n",
              "      <td>2002-12-31 04:00:00</td>\n",
              "      <td>24393.0</td>\n",
              "    </tr>\n",
              "    <tr>\n",
              "      <th>4</th>\n",
              "      <td>2002-12-31 05:00:00</td>\n",
              "      <td>24860.0</td>\n",
              "    </tr>\n",
              "  </tbody>\n",
              "</table>\n",
              "</div>"
            ],
            "text/plain": [
              "             Datetime  PJME_MW\n",
              "0 2002-12-31 01:00:00  26498.0\n",
              "1 2002-12-31 02:00:00  25147.0\n",
              "2 2002-12-31 03:00:00  24574.0\n",
              "3 2002-12-31 04:00:00  24393.0\n",
              "4 2002-12-31 05:00:00  24860.0"
            ]
          },
          "metadata": {
            "tags": []
          },
          "execution_count": 251
        }
      ]
    },
    {
      "cell_type": "code",
      "metadata": {
        "id": "BLicQJ-i0pu6",
        "colab_type": "code",
        "colab": {
          "base_uri": "https://localhost:8080/",
          "height": 198
        },
        "outputId": "f82b1374-f019-458c-b206-39b434210080"
      },
      "source": [
        "loadData_two.head()"
      ],
      "execution_count": null,
      "outputs": [
        {
          "output_type": "execute_result",
          "data": {
            "text/html": [
              "<div>\n",
              "<style scoped>\n",
              "    .dataframe tbody tr th:only-of-type {\n",
              "        vertical-align: middle;\n",
              "    }\n",
              "\n",
              "    .dataframe tbody tr th {\n",
              "        vertical-align: top;\n",
              "    }\n",
              "\n",
              "    .dataframe thead th {\n",
              "        text-align: right;\n",
              "    }\n",
              "</style>\n",
              "<table border=\"1\" class=\"dataframe\">\n",
              "  <thead>\n",
              "    <tr style=\"text-align: right;\">\n",
              "      <th></th>\n",
              "      <th>Datetime</th>\n",
              "      <th>PJM_Load_MW</th>\n",
              "    </tr>\n",
              "  </thead>\n",
              "  <tbody>\n",
              "    <tr>\n",
              "      <th>0</th>\n",
              "      <td>1998-12-31 01:00:00</td>\n",
              "      <td>29309.0</td>\n",
              "    </tr>\n",
              "    <tr>\n",
              "      <th>1</th>\n",
              "      <td>1998-12-31 02:00:00</td>\n",
              "      <td>28236.0</td>\n",
              "    </tr>\n",
              "    <tr>\n",
              "      <th>2</th>\n",
              "      <td>1998-12-31 03:00:00</td>\n",
              "      <td>27692.0</td>\n",
              "    </tr>\n",
              "    <tr>\n",
              "      <th>3</th>\n",
              "      <td>1998-12-31 04:00:00</td>\n",
              "      <td>27596.0</td>\n",
              "    </tr>\n",
              "    <tr>\n",
              "      <th>4</th>\n",
              "      <td>1998-12-31 05:00:00</td>\n",
              "      <td>27888.0</td>\n",
              "    </tr>\n",
              "  </tbody>\n",
              "</table>\n",
              "</div>"
            ],
            "text/plain": [
              "             Datetime  PJM_Load_MW\n",
              "0 1998-12-31 01:00:00      29309.0\n",
              "1 1998-12-31 02:00:00      28236.0\n",
              "2 1998-12-31 03:00:00      27692.0\n",
              "3 1998-12-31 04:00:00      27596.0\n",
              "4 1998-12-31 05:00:00      27888.0"
            ]
          },
          "metadata": {
            "tags": []
          },
          "execution_count": 252
        }
      ]
    },
    {
      "cell_type": "code",
      "metadata": {
        "id": "SMl9j5EXvDWD",
        "colab_type": "code",
        "colab": {
          "base_uri": "https://localhost:8080/",
          "height": 181
        },
        "outputId": "9b51ad41-9614-4114-c4e4-23dcb2e2a5e1"
      },
      "source": [
        "loadData_one.info()"
      ],
      "execution_count": null,
      "outputs": [
        {
          "output_type": "stream",
          "text": [
            "<class 'pandas.core.frame.DataFrame'>\n",
            "RangeIndex: 145366 entries, 0 to 145365\n",
            "Data columns (total 2 columns):\n",
            " #   Column    Non-Null Count   Dtype         \n",
            "---  ------    --------------   -----         \n",
            " 0   Datetime  145366 non-null  datetime64[ns]\n",
            " 1   PJME_MW   145366 non-null  float64       \n",
            "dtypes: datetime64[ns](1), float64(1)\n",
            "memory usage: 2.2 MB\n"
          ],
          "name": "stdout"
        }
      ]
    },
    {
      "cell_type": "code",
      "metadata": {
        "id": "qlpOhY5SeCJM",
        "colab_type": "code",
        "colab": {
          "base_uri": "https://localhost:8080/",
          "height": 181
        },
        "outputId": "4fae0f60-f899-4dcf-917d-799671f14bc6"
      },
      "source": [
        "loadData_two.info()"
      ],
      "execution_count": null,
      "outputs": [
        {
          "output_type": "stream",
          "text": [
            "<class 'pandas.core.frame.DataFrame'>\n",
            "RangeIndex: 32896 entries, 0 to 32895\n",
            "Data columns (total 2 columns):\n",
            " #   Column       Non-Null Count  Dtype         \n",
            "---  ------       --------------  -----         \n",
            " 0   Datetime     32896 non-null  datetime64[ns]\n",
            " 1   PJM_Load_MW  32896 non-null  float64       \n",
            "dtypes: datetime64[ns](1), float64(1)\n",
            "memory usage: 514.1 KB\n"
          ],
          "name": "stdout"
        }
      ]
    },
    {
      "cell_type": "code",
      "metadata": {
        "id": "kqGeNMfd3q99",
        "colab_type": "code",
        "colab": {
          "base_uri": "https://localhost:8080/",
          "height": 72
        },
        "outputId": "47f3fff6-8bfe-4a37-ecd4-f1bab4fa4b1b"
      },
      "source": [
        "loadData_one.isnull().sum()"
      ],
      "execution_count": null,
      "outputs": [
        {
          "output_type": "execute_result",
          "data": {
            "text/plain": [
              "Datetime    0\n",
              "PJME_MW     0\n",
              "dtype: int64"
            ]
          },
          "metadata": {
            "tags": []
          },
          "execution_count": 255
        }
      ]
    },
    {
      "cell_type": "code",
      "metadata": {
        "id": "U_SSCx9zGpPM",
        "colab_type": "code",
        "colab": {
          "base_uri": "https://localhost:8080/",
          "height": 72
        },
        "outputId": "1c2409a3-4540-42bf-88b4-922788f8859e"
      },
      "source": [
        "loadData_two.isnull().sum()"
      ],
      "execution_count": null,
      "outputs": [
        {
          "output_type": "execute_result",
          "data": {
            "text/plain": [
              "Datetime       0\n",
              "PJM_Load_MW    0\n",
              "dtype: int64"
            ]
          },
          "metadata": {
            "tags": []
          },
          "execution_count": 256
        }
      ]
    },
    {
      "cell_type": "code",
      "metadata": {
        "id": "x4Au_qPYRDZs",
        "colab_type": "code",
        "colab": {
          "base_uri": "https://localhost:8080/",
          "height": 366
        },
        "outputId": "bc73be39-16e3-40a7-e26b-2e5f6c173144"
      },
      "source": [
        "powerplan1 = loadData_two.rename(columns={'Datetime':'datetime','PJM_Load_MW':'pjm_mw'})\n",
        "powerplan2 = loadData_one.rename(columns={'Datetime':'datetime','PJME_MW':'pjm_mw'})\n",
        "\n",
        "\n",
        "normalizedata = pd.concat([powerplan1,powerplan2],ignore_index=True)\n",
        "powerplantqty = len(normalizedata)\n",
        "print('banyak dataset: {}'.format(powerplantqty))\n",
        "normalizedata.head(10)"
      ],
      "execution_count": null,
      "outputs": [
        {
          "output_type": "stream",
          "text": [
            "banyak dataset: 178262\n"
          ],
          "name": "stdout"
        },
        {
          "output_type": "execute_result",
          "data": {
            "text/html": [
              "<div>\n",
              "<style scoped>\n",
              "    .dataframe tbody tr th:only-of-type {\n",
              "        vertical-align: middle;\n",
              "    }\n",
              "\n",
              "    .dataframe tbody tr th {\n",
              "        vertical-align: top;\n",
              "    }\n",
              "\n",
              "    .dataframe thead th {\n",
              "        text-align: right;\n",
              "    }\n",
              "</style>\n",
              "<table border=\"1\" class=\"dataframe\">\n",
              "  <thead>\n",
              "    <tr style=\"text-align: right;\">\n",
              "      <th></th>\n",
              "      <th>datetime</th>\n",
              "      <th>pjm_mw</th>\n",
              "    </tr>\n",
              "  </thead>\n",
              "  <tbody>\n",
              "    <tr>\n",
              "      <th>0</th>\n",
              "      <td>1998-12-31 01:00:00</td>\n",
              "      <td>29309.0</td>\n",
              "    </tr>\n",
              "    <tr>\n",
              "      <th>1</th>\n",
              "      <td>1998-12-31 02:00:00</td>\n",
              "      <td>28236.0</td>\n",
              "    </tr>\n",
              "    <tr>\n",
              "      <th>2</th>\n",
              "      <td>1998-12-31 03:00:00</td>\n",
              "      <td>27692.0</td>\n",
              "    </tr>\n",
              "    <tr>\n",
              "      <th>3</th>\n",
              "      <td>1998-12-31 04:00:00</td>\n",
              "      <td>27596.0</td>\n",
              "    </tr>\n",
              "    <tr>\n",
              "      <th>4</th>\n",
              "      <td>1998-12-31 05:00:00</td>\n",
              "      <td>27888.0</td>\n",
              "    </tr>\n",
              "    <tr>\n",
              "      <th>5</th>\n",
              "      <td>1998-12-31 06:00:00</td>\n",
              "      <td>29382.0</td>\n",
              "    </tr>\n",
              "    <tr>\n",
              "      <th>6</th>\n",
              "      <td>1998-12-31 07:00:00</td>\n",
              "      <td>31373.0</td>\n",
              "    </tr>\n",
              "    <tr>\n",
              "      <th>7</th>\n",
              "      <td>1998-12-31 08:00:00</td>\n",
              "      <td>33272.0</td>\n",
              "    </tr>\n",
              "    <tr>\n",
              "      <th>8</th>\n",
              "      <td>1998-12-31 09:00:00</td>\n",
              "      <td>34133.0</td>\n",
              "    </tr>\n",
              "    <tr>\n",
              "      <th>9</th>\n",
              "      <td>1998-12-31 10:00:00</td>\n",
              "      <td>35232.0</td>\n",
              "    </tr>\n",
              "  </tbody>\n",
              "</table>\n",
              "</div>"
            ],
            "text/plain": [
              "             datetime   pjm_mw\n",
              "0 1998-12-31 01:00:00  29309.0\n",
              "1 1998-12-31 02:00:00  28236.0\n",
              "2 1998-12-31 03:00:00  27692.0\n",
              "3 1998-12-31 04:00:00  27596.0\n",
              "4 1998-12-31 05:00:00  27888.0\n",
              "5 1998-12-31 06:00:00  29382.0\n",
              "6 1998-12-31 07:00:00  31373.0\n",
              "7 1998-12-31 08:00:00  33272.0\n",
              "8 1998-12-31 09:00:00  34133.0\n",
              "9 1998-12-31 10:00:00  35232.0"
            ]
          },
          "metadata": {
            "tags": []
          },
          "execution_count": 363
        }
      ]
    },
    {
      "cell_type": "code",
      "metadata": {
        "id": "YfLjRBga36A9",
        "colab_type": "code",
        "colab": {
          "base_uri": "https://localhost:8080/",
          "height": 354
        },
        "outputId": "2e8ef681-240d-4da7-ac0f-828b9ce49b15"
      },
      "source": [
        "import matplotlib.pyplot as plt\n",
        "\n",
        "datetime = normalizedata.datetime.values\n",
        "output = normalizedata.pjm_mw.values\n",
        "Title = 'Power Plan Output'\n",
        "\n",
        "def plotting(Xaxes=[],Yaxes=[],title=''):\n",
        "  plt.figure(figsize=(20,5))\n",
        "  plt.plot(Xaxes,Yaxes)\n",
        "  plt.xticks(rotation=45)\n",
        "  plt.title(title,fontsize=20)\n",
        "  plt.xlabel('date',fontsize=12)\n",
        "  plt.ylabel('Power Plan output',fontsize=12)\n",
        "  plt.show()  \n",
        "\n",
        "plotting(datetime,output,Title)\n"
      ],
      "execution_count": null,
      "outputs": [
        {
          "output_type": "display_data",
          "data": {
            "image/png": "[encoded data removed]",
            "text/plain": [
              "<Figure size 1440x360 with 1 Axes>"
            ]
          },
          "metadata": {
            "tags": [],
            "needs_background": "light"
          }
        }
      ]
    },
    {
      "cell_type": "code",
      "metadata": {
        "id": "5ZS7ys80eNb0",
        "colab_type": "code",
        "colab": {
          "base_uri": "https://localhost:8080/",
          "height": 181
        },
        "outputId": "d3b66ae7-7768-4da1-d488-42bcbb7e5fb1"
      },
      "source": [
        "normalizedata.info()"
      ],
      "execution_count": null,
      "outputs": [
        {
          "output_type": "stream",
          "text": [
            "<class 'pandas.core.frame.DataFrame'>\n",
            "RangeIndex: 178262 entries, 0 to 178261\n",
            "Data columns (total 2 columns):\n",
            " #   Column    Non-Null Count   Dtype         \n",
            "---  ------    --------------   -----         \n",
            " 0   datetime  178262 non-null  datetime64[ns]\n",
            " 1   pjm_mw    178262 non-null  float64       \n",
            "dtypes: datetime64[ns](1), float64(1)\n",
            "memory usage: 2.7 MB\n"
          ],
          "name": "stdout"
        }
      ]
    },
    {
      "cell_type": "code",
      "metadata": {
        "id": "PLq3w4RVKncl",
        "colab_type": "code",
        "colab": {
          "base_uri": "https://localhost:8080/",
          "height": 198
        },
        "outputId": "16b37adf-a778-4c8c-bded-622199df7394"
      },
      "source": [
        "from sklearn.preprocessing import MinMaxScaler\n",
        "from sklearn.preprocessing import StandardScaler\n",
        "import datetime\n",
        "\n",
        "data = normalizedata.values\n",
        "\n",
        "timePowerPlant = []\n",
        "PowerOutput = []\n",
        "\n",
        "for i in range(len(data)):\n",
        "  timePowerPlant.append(data[i,0])\n",
        "  PowerOutput.append(data[i,1])\n",
        "\n",
        "timePowerPlant = pd.DataFrame({'datetime':timePowerPlant})\n",
        "PowerOutput = pd.DataFrame({'pjm_mw':PowerOutput})\n",
        "\n",
        "def normalize(normalData):\n",
        "    \"\"\"Normalize the DF using min/max\"\"\"\n",
        "    scaler = MinMaxScaler(feature_range=(-1, 1))\n",
        "    dates_scaled = scaler.fit_transform(normalData.values)\n",
        "    return dates_scaled\n",
        "\n",
        "\n",
        "time = normalize(timePowerPlant)\n",
        "pwr = normalize(PowerOutput)  \n",
        "timeFinal = []\n",
        "pwrFinal = []\n",
        "for i in range(len(time)):\n",
        "  timeFinal.append(time[i,0])\n",
        "  pwrFinal.append(pwr[i,0])\n",
        "\n",
        "finalDataPowerPlant = pd.DataFrame({'datetime':timeFinal ,'pjm_kw':pwrFinal})\n",
        "\n",
        "finalDataPowerPlant.head()"
      ],
      "execution_count": null,
      "outputs": [
        {
          "output_type": "execute_result",
          "data": {
            "text/html": [
              "<div>\n",
              "<style scoped>\n",
              "    .dataframe tbody tr th:only-of-type {\n",
              "        vertical-align: middle;\n",
              "    }\n",
              "\n",
              "    .dataframe tbody tr th {\n",
              "        vertical-align: top;\n",
              "    }\n",
              "\n",
              "    .dataframe thead th {\n",
              "        text-align: right;\n",
              "    }\n",
              "</style>\n",
              "<table border=\"1\" class=\"dataframe\">\n",
              "  <thead>\n",
              "    <tr style=\"text-align: right;\">\n",
              "      <th></th>\n",
              "      <th>datetime</th>\n",
              "      <th>pjm_kw</th>\n",
              "    </tr>\n",
              "  </thead>\n",
              "  <tbody>\n",
              "    <tr>\n",
              "      <th>0</th>\n",
              "      <td>-0.926235</td>\n",
              "      <td>-0.377857</td>\n",
              "    </tr>\n",
              "    <tr>\n",
              "      <th>1</th>\n",
              "      <td>-0.926223</td>\n",
              "      <td>-0.423070</td>\n",
              "    </tr>\n",
              "    <tr>\n",
              "      <th>2</th>\n",
              "      <td>-0.926212</td>\n",
              "      <td>-0.445992</td>\n",
              "    </tr>\n",
              "    <tr>\n",
              "      <th>3</th>\n",
              "      <td>-0.926201</td>\n",
              "      <td>-0.450037</td>\n",
              "    </tr>\n",
              "    <tr>\n",
              "      <th>4</th>\n",
              "      <td>-0.926190</td>\n",
              "      <td>-0.437733</td>\n",
              "    </tr>\n",
              "  </tbody>\n",
              "</table>\n",
              "</div>"
            ],
            "text/plain": [
              "   datetime    pjm_kw\n",
              "0 -0.926235 -0.377857\n",
              "1 -0.926223 -0.423070\n",
              "2 -0.926212 -0.445992\n",
              "3 -0.926201 -0.450037\n",
              "4 -0.926190 -0.437733"
            ]
          },
          "metadata": {
            "tags": []
          },
          "execution_count": 428
        }
      ]
    },
    {
      "cell_type": "code",
      "metadata": {
        "id": "ECFZDoDekCUV",
        "colab_type": "code",
        "colab": {
          "base_uri": "https://localhost:8080/",
          "height": 72
        },
        "outputId": "eefd1a25-1652-4f87-d9ad-0f394815e38e"
      },
      "source": [
        "from sklearn.model_selection import TimeSeriesSplit\n",
        "import numpy as np\n",
        "\n",
        "tscv = TimeSeriesSplit(n_splits=4)#20% validation\n",
        "data = finalDataPowerPlant.values\n",
        "\n",
        "for tr_index,val_index in tscv.split(finalDataPowerPlant):\n",
        "  traindata,testdata = pd.DataFrame({'datetime':data[tr_index,0],'pjm_mw':data[tr_index,1]}) , pd.DataFrame({'datetime':data[val_index,0],'pjm_mw':data[val_index,1]})  \n",
        "n_steps = 1\n",
        "n_feature = 1\n",
        "\n",
        "date_train = traindata.values\n",
        "date_test = testdata.values\n",
        "\n",
        "print('total dataset awal: {}'.format(len(normalizedata)))\n",
        "print('train data qty: {}'.format(len(traindata)))\n",
        "print('test data qty : {}'.format(len(testdata)))"
      ],
      "execution_count": null,
      "outputs": [
        {
          "output_type": "stream",
          "text": [
            "total dataset awal: 178262\n",
            "train data qty: 142610\n",
            "test data qty : 35652\n"
          ],
          "name": "stdout"
        }
      ]
    },
    {
      "cell_type": "code",
      "metadata": {
        "id": "C3BdUeSKPsgT",
        "colab_type": "code",
        "colab": {
          "base_uri": "https://localhost:8080/",
          "height": 307
        },
        "outputId": "120ff2a7-6d56-4bf4-9643-3ea5cdc3d400"
      },
      "source": [
        "datetimeT = traindata.datetime.values\n",
        "powerT = traindata.pjm_mw.values\n",
        "datetimeTs = testdata.datetime.values\n",
        "powerTs = testdata.datetime\n",
        "\n",
        "plt.figure(figsize=(20,5))\n",
        "plt.plot(datetimeT,powerT,label='training')\n",
        "plt.plot(datetimeTs,powerTs,linestyle='dashed',label='validation')\n",
        "plt.legend()\n",
        "plt.show()"
      ],
      "execution_count": null,
      "outputs": [
        {
          "output_type": "display_data",
          "data": {
            "image/png": "[encoded data removed]",
            "text/plain": [
              "<Figure size 1440x360 with 1 Axes>"
            ]
          },
          "metadata": {
            "tags": [],
            "needs_background": "light"
          }
        }
      ]
    },
    {
      "cell_type": "code",
      "metadata": {
        "id": "HjV6zJuB58Lo",
        "colab_type": "code",
        "colab": {}
      },
      "source": [
        "import tensorflow as tf\n",
        "from tensorflow import keras\n",
        "\n",
        "\n",
        "def windowed_dataset(series,windows_size,batch_size,shuffle_buffer):\n",
        "  series = tf.expand_dims(series,axis=-1)\n",
        "  ds = tf.data.Dataset.from_tensor_slices(series)\n",
        "  ds = ds.window(windows_size + 1, shift=1, drop_remainder=True)\n",
        "  ds = ds.flat_map(lambda w: w.batch(windows_size + 1))\n",
        "  ds = ds.shuffle(shuffle_buffer)\n",
        "  ds = ds.map(lambda w: (w[:1], w[1:]))\n",
        "  return ds.batch(batch_size).prefetch(1)\n",
        "\n",
        "train_close_set = windowed_dataset(power_train,windows_size=60,batch_size=100,shuffle_buffer=1000)\n",
        "test_close_set = windowed_dataset(power_test,windows_size=60,batch_size=100,shuffle_buffer=1000)"
      ],
      "execution_count": null,
      "outputs": []
    },
    {
      "cell_type": "code",
      "metadata": {
        "id": "1S4A_32u71rx",
        "colab_type": "code",
        "colab": {
          "base_uri": "https://localhost:8080/",
          "height": 599
        },
        "outputId": "be5d9415-4d19-422d-f551-3d1310dd599a"
      },
      "source": [
        "from tensorflow.keras.models import Sequential\n",
        "from tensorflow.keras.layers import LSTM\n",
        "from tensorflow.keras.layers import Dense\n",
        "from tensorflow.keras.layers import Flatten\n",
        "from tensorflow.keras.layers import Conv1D\n",
        "from tensorflow.keras.layers import TimeDistributed\n",
        "from tensorflow.keras.layers import Bidirectional\n",
        "from tensorflow.keras.optimizers import Adam\n",
        "from tensorflow.keras.losses import Huber\n",
        "\n",
        "model = Sequential()\n",
        "model.add(Bidirectional(LSTM(1024,activation='relu',return_sequences=True),input_shape=(n_steps,n_feature)))\n",
        "model.add(Bidirectional(LSTM(1024,activation='relu', return_sequences=True)))\n",
        "model.add(Bidirectional(LSTM(512,activation='relu', return_sequences=True)))\n",
        "model.add(Bidirectional(LSTM(120,activation='relu', return_sequences=True)))\n",
        "model.add(Bidirectional(LSTM(60,activation='relu')))\n",
        "model.add(Flatten())\n",
        "model.add(Dense(1024, activation='relu'))\n",
        "model.add(Dense(128, activation='relu'))\n",
        "model.add(Dense(64, activation='relu'))\n",
        "model.add(Dense(10, activation='relu'))\n",
        "model.add(Dense(2, activation='relu'))\n",
        "model.add(Dense(1, activation='sigmoid'))\n",
        "\n",
        "#optimizer = SGD(lr=1.000e-04,momentum=0.9)\n",
        "#optimizer = Adam(lr=1.000e-04)\n",
        "optimizer = Adam(lr=1.500e-04)\n",
        "model.compile(\n",
        "    loss = Huber(),\n",
        "    optimizer = optimizer,\n",
        "    metrics=['mae']\n",
        ")\n",
        "\n",
        "model.summary()"
      ],
      "execution_count": null,
      "outputs": [
        {
          "output_type": "stream",
          "text": [
            "Model: \"sequential_5\"\n",
            "_________________________________________________________________\n",
            "Layer (type)                 Output Shape              Param #   \n",
            "=================================================================\n",
            "bidirectional_27 (Bidirectio (None, 1, 2048)           8404992   \n",
            "_________________________________________________________________\n",
            "bidirectional_28 (Bidirectio (None, 1, 2048)           25174016  \n",
            "_________________________________________________________________\n",
            "bidirectional_29 (Bidirectio (None, 1, 1024)           10489856  \n",
            "_________________________________________________________________\n",
            "bidirectional_30 (Bidirectio (None, 1, 240)            1099200   \n",
            "_________________________________________________________________\n",
            "bidirectional_31 (Bidirectio (None, 120)               144480    \n",
            "_________________________________________________________________\n",
            "flatten_5 (Flatten)          (None, 120)               0         \n",
            "_________________________________________________________________\n",
            "dense_28 (Dense)             (None, 1024)              123904    \n",
            "_________________________________________________________________\n",
            "dense_29 (Dense)             (None, 128)               131200    \n",
            "_________________________________________________________________\n",
            "dense_30 (Dense)             (None, 64)                8256      \n",
            "_________________________________________________________________\n",
            "dense_31 (Dense)             (None, 10)                650       \n",
            "_________________________________________________________________\n",
            "dense_32 (Dense)             (None, 2)                 22        \n",
            "_________________________________________________________________\n",
            "dense_33 (Dense)             (None, 1)                 3         \n",
            "=================================================================\n",
            "Total params: 45,576,579\n",
            "Trainable params: 45,576,579\n",
            "Non-trainable params: 0\n",
            "_________________________________________________________________\n"
          ],
          "name": "stdout"
        }
      ]
    },
    {
      "cell_type": "code",
      "metadata": {
        "id": "Lp7d6uPF_P_E",
        "colab_type": "code",
        "colab": {
          "base_uri": "https://localhost:8080/",
          "height": 619
        },
        "outputId": "9b2503da-38eb-4f29-8247-ea657138b056"
      },
      "source": [
        "import tensorflow as tf\n",
        "MAE_TRESHOLD = 0.10\n",
        "\n",
        "class Callback(tf.keras.callbacks.Callback):\n",
        "  def onE(self,epoch,logs={}):\n",
        "    if(logs.get('mae') < MAE_TRESHOLD):\n",
        "      print('{}% MAE\\nEnd Training'.fromat(MAE_TRESHOLD*100))\n",
        "      self.model.stop_training = True\n",
        "     \n",
        "\n",
        "callbackval = Callback()\n",
        "saveLog =  tf.keras.callbacks.CSVLogger('trainingSubmissionTimeSeriesLog.csv',separator=',')\n",
        "\n",
        "with tf.device('/device:GPU:0'):\n",
        "  history = model.fit(\n",
        "                    train_close_set,\n",
        "                    epochs=30,\n",
        "                    steps_per_epoch=100,\n",
        "                    validation_steps=50,\n",
        "                    batch_size=64,\n",
        "                    validation_data = test_close_set,\n",
        "                    callbacks = [callbackval,saveLog],\n",
        "                    verbose=1\n",
        "                    )\n",
        "\n",
        "model.save('TimeSeriesmodel(PowerPlant).h5')"
      ],
      "execution_count": null,
      "outputs": [
        {
          "output_type": "stream",
          "text": [
            "Epoch 1/30\n",
            "100/100 [==============================] - 105s 1s/step - loss: 0.3909 - mae: 0.8493 - val_loss: 0.1826 - val_mae: 0.5599\n",
            "Epoch 2/30\n",
            "100/100 [==============================] - 104s 1s/step - loss: 0.0951 - mae: 0.3837 - val_loss: 0.0773 - val_mae: 0.3405\n",
            "Epoch 3/30\n",
            "100/100 [==============================] - 104s 1s/step - loss: 0.0937 - mae: 0.3844 - val_loss: 0.0774 - val_mae: 0.3402\n",
            "Epoch 4/30\n",
            "100/100 [==============================] - 105s 1s/step - loss: 0.0776 - mae: 0.3448 - val_loss: 0.0772 - val_mae: 0.3401\n",
            "Epoch 5/30\n",
            "100/100 [==============================] - 105s 1s/step - loss: 0.0719 - mae: 0.3275 - val_loss: 0.0775 - val_mae: 0.3409\n",
            "Epoch 6/30\n",
            "100/100 [==============================] - 104s 1s/step - loss: 0.0626 - mae: 0.2996 - val_loss: 0.0772 - val_mae: 0.3398\n",
            "Epoch 7/30\n",
            "100/100 [==============================] - 104s 1s/step - loss: 0.0670 - mae: 0.3150 - val_loss: 0.0771 - val_mae: 0.3398\n",
            "Epoch 8/30\n",
            "100/100 [==============================] - 104s 1s/step - loss: 0.0643 - mae: 0.3057 - val_loss: 0.0771 - val_mae: 0.3397\n",
            "Epoch 9/30\n",
            "100/100 [==============================] - 104s 1s/step - loss: 0.0585 - mae: 0.2878 - val_loss: 0.0772 - val_mae: 0.3398\n",
            "Epoch 10/30\n",
            "100/100 [==============================] - 104s 1s/step - loss: 0.0678 - mae: 0.3167 - val_loss: 0.0772 - val_mae: 0.3399\n",
            "Epoch 11/30\n",
            "100/100 [==============================] - 104s 1s/step - loss: 0.0676 - mae: 0.3147 - val_loss: 0.0772 - val_mae: 0.3397\n",
            "Epoch 12/30\n",
            "100/100 [==============================] - 104s 1s/step - loss: 0.0657 - mae: 0.3087 - val_loss: 0.0774 - val_mae: 0.3405\n",
            "Epoch 13/30\n",
            "100/100 [==============================] - 105s 1s/step - loss: 0.0754 - mae: 0.3398 - val_loss: 0.0771 - val_mae: 0.3398\n",
            "Epoch 14/30\n",
            "100/100 [==============================] - 104s 1s/step - loss: 0.0770 - mae: 0.3419 - val_loss: 0.0774 - val_mae: 0.3404\n",
            "Epoch 15/30\n",
            " 26/100 [======>.......................] - ETA: 1:06 - loss: 0.0725 - mae: 0.3264WARNING:tensorflow:Your input ran out of data; interrupting training. Make sure that your dataset or generator can generate at least `steps_per_epoch * epochs` batches (in this case, 3000 batches). You may need to use the repeat() function when building your dataset.\n"
          ],
          "name": "stdout"
        },
        {
          "output_type": "stream",
          "text": [
            "WARNING:tensorflow:Your input ran out of data; interrupting training. Make sure that your dataset or generator can generate at least `steps_per_epoch * epochs` batches (in this case, 3000 batches). You may need to use the repeat() function when building your dataset.\n"
          ],
          "name": "stderr"
        },
        {
          "output_type": "stream",
          "text": [
            "\b\b\b\b\b\b\b\b\b\b\b\b\b\b\b\b\b\b\b\b\b\b\b\b\b\b\b\b\b\b\b\b\b\b\b\b\b\b\b\b\b\b\b\b\b\b\b\b\b\b\b\b\b\b\b\b\b\b\b\b\b\b\b\b\b\b\b\b\b\b\b\b\b\b\b\b\b\b\b\b\b\r 26/100 [======>.......................] - 33s 1s/step - loss: 0.0725 - mae: 0.3264 - val_loss: 0.0772 - val_mae: 0.3401\n"
          ],
          "name": "stdout"
        }
      ]
    },
    {
      "cell_type": "code",
      "metadata": {
        "id": "H-oEARAVBk_N",
        "colab_type": "code",
        "colab": {
          "base_uri": "https://localhost:8080/",
          "height": 1000
        },
        "outputId": "fa4ec1ef-b165-4cd5-f205-ce9009163806"
      },
      "source": [
        "mae = history.history['mae']\n",
        "loss = history.history['loss']\n",
        "epoch = range(len(mae))\n",
        "val_mae = history.history['val_mae']\n",
        "val_loss = history.history['val_loss']\n",
        "\n",
        "\n",
        "def Trainplotting(Xaxes=[],Yaxes=[],Yval =[],title=''):\n",
        "  plt.figure(figsize=(15,10))\n",
        "  plt.plot(Xaxes,Yaxes,label='mae')\n",
        "  plt.plot(Xaxes, Yval,label='Loss')\n",
        "  plt.legend()\n",
        "  plt.title(title,fontsize=20)\n",
        "  plt.show()\n",
        " \n",
        "Trainplotting(epoch,mae,loss,title='Training Accuracy and Loss')\n",
        "print('\\n\\n')\n",
        "Trainplotting(epoch,val_mae,val_loss,title='Validation Training and Loss')"
      ],
      "execution_count": null,
      "outputs": [
        {
          "output_type": "display_data",
          "data": {
            "image/png": "[encoded data removed]",
            "text/plain": [
              "<Figure size 1080x720 with 1 Axes>"
            ]
          },
          "metadata": {
            "tags": [],
            "needs_background": "light"
          }
        },
        {
          "output_type": "stream",
          "text": [
            "\n",
            "\n",
            "\n"
          ],
          "name": "stdout"
        },
        {
          "output_type": "display_data",
          "data": {
            "image/png": "[encoded data removed]",
            "text/plain": [
              "<Figure size 1080x720 with 1 Axes>"
            ]
          },
          "metadata": {
            "tags": [],
            "needs_background": "light"
          }
        }
      ]
    }
  ]
}