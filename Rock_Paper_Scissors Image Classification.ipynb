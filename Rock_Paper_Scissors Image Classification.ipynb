{
  "cells": [
    {
      "cell_type": "code",
      "metadata": {
        "id": "3erVnjQFGVbX",
        "colab_type": "code",
        "outputId": "50b3c03b-2340-46a4-9ffc-a1c8fd5a1e45",
        "colab": {
          "base_uri": "https://localhost:8080/",
          "height": 34
        },
        "tags": []
      },
      "source": [
        "import tensorflow as tf\n",
        "import zipfile as zf\n",
        "import pathlib\n",
        "#import google.colab.files as files\n",
        "\n",
        "\n",
        "local_file = '/tmp/rockpaperscissors.zip'\n",
        "\n",
        "\n",
        "try:\n",
        "  extract_files = zf.ZipFile(local_file,'r')\n",
        "  extract_files.extractall('/tmp/')\n",
        "  extract_files.close()\n",
        "  print('Extraksi dataset sukses')\n",
        "\n",
        "except(FileNotFoundError):\n",
        "   print('\\ndataset tidak ditemukan\\n')\n",
        "\n",
        "   print('Mendownload dataset yang diperlukan')\n",
        "   extract_files = tf.keras.utils.get_file(origin='https://dicodingacademy.blob.core.windows.net/picodiploma/ml_pemula_academy/rockpaperscissors.zip',cache_dir='/tmp/',fname='/tmp/rockpaperscissors.zip')\n",
        "   extract_files = zf.ZipFile(local_file,'r')\n",
        "   extract_files.extractall('/tmp/')\n",
        "   extract_files.close()\n",
        "\n",
        "   print('\\nExtraksi  ulang dataset sukses')\n",
        "except:\n",
        "  print('tidak dapat melakukan Extraksi dataset')\n"
      ],
      "execution_count": null,
      "outputs": []
    },
    {
      "cell_type": "code",
      "metadata": {
        "id": "CXDxy06r9Osc",
        "colab_type": "code",
        "outputId": "91722c13-a18b-4659-feba-3f7b0a80fa76",
        "colab": {
          "base_uri": "https://localhost:8080/",
          "height": 122
        },
        "tags": [
          "outputPrepend"
        ]
      },
      "source": [
        "import os \n",
        "\n",
        "\n",
        "try:\n",
        "\n",
        "  train_directory = '/tmp/rockpaperscissors/rps-cv-images/'\n",
        "  rock_dir = os.path.join(train_directory,'rock')\n",
        "  paper_dir = os.path.join(train_directory,'paper')\n",
        "  scissors_dir = os.path.join(train_directory,'scissors')\n",
        "\n",
        "  print(os.listdir(train_directory))\n",
        "  print(os.listdir(train_directory[0:5]))\n",
        "\n",
        "#directory\n",
        "  paper_data = os.listdir(paper_dir)\n",
        "  rock_data = os.listdir(rock_dir)\n",
        "  scissors_data = os.listdir(scissors_dir)\n",
        "\n",
        "#Kuantitas\n",
        "  sub_dir_Qty = len(os.listdir(train_directory))\n",
        "  paper_Qty = len(os.listdir(paper_dir))\n",
        "  rock_Qty = len(os.listdir(rock_dir))\n",
        "  scissor_Qty = len(os.listdir(scissors_dir))\n",
        "\n",
        "\n",
        "  print(paper_data[:paper_Qty])\n",
        "  print(rock_data[:rock_Qty])\n",
        "  print(scissors_data[:scissor_Qty])\n",
        "\n",
        "except(FileExistsError,FileNotFoundError):\n",
        "  print('file tidak ditemukan')\n",
        "  print('coba eksekusi cell diatas')\n",
        "except:\n",
        "  print('tidak dapat melist folder')"
      ],
      "execution_count": null,
      "outputs": []
    },
    {
      "cell_type": "code",
      "metadata": {
        "id": "izoyZjTwC2Vq",
        "colab_type": "code",
        "outputId": "e194a9a6-483c-48db-c4eb-e69ebed07277",
        "colab": {
          "base_uri": "https://localhost:8080/",
          "height": 102
        },
        "tags": []
      },
      "source": [
        "#evaluasi data 1\n",
        "import matplotlib.pyplot as plt\n",
        "\n",
        "\n",
        "print('total sub directory : ',sub_dir_Qty)\n",
        "print('total gambar paper :' , paper_Qty)\n",
        "print('total gambar rock', rock_Qty)\n",
        "print('total gambar scissor : ', scissor_Qty)\n",
        "print('keseluruhan : ',paper_Qty+rock_Qty+scissor_Qty)\n",
        "\n",
        "\n"
      ],
      "execution_count": null,
      "outputs": []
    },
    {
      "cell_type": "code",
      "metadata": {
        "id": "eXuyn_V8jxh3",
        "colab_type": "code",
        "outputId": "99d1f293-a131-4d28-e137-0a387eede119",
        "colab": {
          "base_uri": "https://localhost:8080/",
          "height": 728
        }
      },
      "source": [
        "#evaluasi data 2\n",
        "import matplotlib.pyplot as plt\n",
        "import matplotlib.image as imgplot\n",
        "%matplotlib inline\n",
        "\n",
        "picture = 1\n",
        "try:\n",
        "    img_paper = [os.path.join(paper_dir,fname)for fname in paper_data[picture-1:picture]]\n",
        "    img_rock = [os.path.join(rock_dir,fname)for fname in rock_data[picture-1:picture]]\n",
        "    img_scissor = [os.path.join(scissors_dir,fname)for fname in scissors_data[picture-1:picture]]\n",
        "\n",
        "  \n",
        "\n",
        "    for i,img_path in enumerate(img_paper+img_rock+img_scissor):\n",
        "      \n",
        "      img = imgplot.imread(img_path)\n",
        "      plt.figure()\n",
        "      plt.imshow(img)\n",
        "      plt.axis('off')\n",
        "      plt.colorbar()\n",
        "      plt.show()\n",
        "except(FileExistsError,FileNotFoundError):\n",
        "  print('directory tidak ditemukan')\n",
        "  print('coba eksekusi cell di atas')\n",
        "\n",
        "except:\n",
        "  print('terjadi kesalahan')\n"
      ],
      "execution_count": null,
      "outputs": []
    },
    {
      "cell_type": "code",
      "metadata": {
        "id": "wM_u8OKNI82_",
        "colab_type": "code",
        "outputId": "4c823fb1-6669-4b22-892e-be4a5c342e16",
        "colab": {
          "base_uri": "https://localhost:8080/",
          "height": 51
        },
        "tags": []
      },
      "source": [
        "#data load and preprocessing\n",
        "import tensorflow as tf\n",
        "import numpy as np\n",
        "import tensorflow.keras.preprocessing.image as img\n",
        "from tensorflow import keras\n",
        "from keras_preprocessing.image import ImageDataGenerator\n",
        "\n",
        "batch_sizes = 126\n",
        "img_h = 150\n",
        "img_w = 150\n",
        "\n",
        "\n",
        "try:\n",
        "    train_datagen = ImageDataGenerator(\n",
        "        rescale = 1./255,\n",
        "        zca_epsilon=1e-06, \n",
        "        rotation_range=40, \n",
        "        width_shift_range=0.2,\n",
        "        height_shift_range=0.2,  \n",
        "        shear_range=0.2, \n",
        "        zoom_range=0.1,\n",
        "        channel_shift_range=0.0,\n",
        "        fill_mode = 'nearest',  \n",
        "        cval=0.0, \n",
        "        horizontal_flip=True,  \n",
        "        validation_split=0.2\n",
        "    )\n",
        "\n",
        "\n",
        "    train_set = train_datagen.flow_from_directory(\n",
        "        train_directory,\n",
        "        batch_size= batch_sizes,\n",
        "        shuffle = True,\n",
        "        target_size = (img_h,img_w),\n",
        "        color_mode ='rgb',\n",
        "        class_mode = 'categorical',\n",
        "        interpolation = 'nearest',\n",
        "        subset = 'training'\n",
        "\n",
        "    )\n",
        "\n",
        "    validation_set = train_datagen.flow_from_directory(\n",
        "        train_directory,\n",
        "        batch_size = batch_sizes,\n",
        "        shuffle = True,\n",
        "        target_size= (img_h,img_w),\n",
        "        color_mode = 'rgb',\n",
        "        class_mode = 'categorical',\n",
        "        interpolation = 'nearest',\n",
        "        subset = 'validation'\n",
        "    )\n",
        "\n",
        "\n",
        "\n",
        "except:\n",
        "  print('\\nImage Data generator error')\n",
        "  print('coba eksekusi terlebih dahulu cell di atas\\n')\n"
      ],
      "execution_count": null,
      "outputs": []
    },
    {
      "cell_type": "code",
      "metadata": {
        "id": "OuFbdLWzGFef",
        "colab_type": "code",
        "outputId": "bbfad86b-a42b-48f6-86a9-543292cbf228",
        "colab": {
          "base_uri": "https://localhost:8080/",
          "height": 187
        },
        "tags": []
      },
      "source": [
        "\n",
        "print('\\nTrain dataset')\n",
        "print(train_set.image_shape)\n",
        "print(train_set.class_indices)\n",
        "print(train_set.class_mode)\n",
        "print('\\nvalidation dataset')\n",
        "print(validation_set.image_shape)\n",
        "print(validation_set.class_indices)\n",
        "print(validation_set.class_mode)"
      ],
      "execution_count": null,
      "outputs": []
    },
    {
      "cell_type": "code",
      "execution_count": null,
      "metadata": {},
      "outputs": [],
      "source": []
    },
    {
      "cell_type": "code",
      "metadata": {
        "id": "S0RbH_i5F7q0",
        "colab_type": "code",
        "outputId": "a9d033c8-3cad-464a-a4be-01c9b470e140",
        "colab": {
          "base_uri": "https://localhost:8080/",
          "height": 595
        },
        "tags": []
      },
      "source": [
        "#Training model squential\n",
        "\n",
        "train_model = tf.keras.models.Sequential([\n",
        "     #1                                     \n",
        "    tf.keras.layers.Conv2D(32,(3,3),activation='relu',input_shape=(img_h,img_w,3)),\n",
        "    tf.keras.layers.MaxPool2D(2,2),\n",
        "    #2\n",
        "    tf.keras.layers.Conv2D(32,(3,3),activation='relu'),\n",
        "    tf.keras.layers.MaxPool2D(2,2),\n",
        "    #3\n",
        "    tf.keras.layers.Conv2D(64,(3,3),activation='relu'),\n",
        "    tf.keras.layers.MaxPool2D(2,2),\n",
        "    #4\n",
        "    tf.keras.layers.Conv2D(64,(3,3),activation='relu'),\n",
        "    tf.keras.layers.MaxPool2D(2,2),\n",
        "    \n",
        "    \n",
        "    tf.keras.layers.Flatten(),\n",
        "    tf.keras.layers.Dropout(0.5),\n",
        "    tf.keras.layers.Dense(1024,activation='relu'),\n",
        "    tf.keras.layers.Dense(512,activation='relu'),\n",
        "    tf.keras.layers.Dense(3,activation='softmax')                                       \n",
        "]\n",
        ")\n",
        "train_model.summary()"
      ],
      "execution_count": null,
      "outputs": []
    },
    {
      "cell_type": "code",
      "metadata": {
        "id": "3rMkrqyrsBXM",
        "colab_type": "code",
        "outputId": "159d10c4-bb7f-4646-84eb-ea65fb829197",
        "colab": {
          "base_uri": "https://localhost:8080/",
          "height": 527
        },
        "tags": []
      },
      "source": [
        "#COMPILE TRAINING DATA SET\n",
        "import time\n",
        "toc = time.perf_counter()\n",
        "\n",
        "\n",
        "\n",
        "train_model.compile(\n",
        "    loss = 'categorical_crossentropy',\n",
        "    optimizer = tf.keras.optimizers.Adamax(\n",
        "                      learning_rate = 0.001,\n",
        "                      beta_1 = 0.9,\n",
        "                      beta_2 = 0.999,\n",
        "                      epsilon = 1e-07,\n",
        "                      name='Adamax'),\n",
        "    metrics = ['accuracy']\n",
        ")\n",
        "\n",
        "\n",
        "\n",
        "\n",
        "history = train_model.fit(\n",
        "  train_set,\n",
        "  epochs = 15,\n",
        "  steps_per_epoch = 20,\n",
        "  validation_data = validation_set,\n",
        "  verbose = 1,\n",
        "  validation_steps = 3\n",
        ")\n",
        "\n",
        "train_model.save('rps.h5')\n",
        "\n",
        "tcc = time.perf_counter()\n"
      ],
      "execution_count": null,
      "outputs": []
    },
    {
      "cell_type": "code",
      "metadata": {
        "id": "zl30ltwAmNw9",
        "colab_type": "code",
        "outputId": "7d6b52e3-d5f6-4d9b-dd21-a8e2b5f28369",
        "colab": {
          "base_uri": "https://localhost:8080/",
          "height": 624
        },
        "tags": []
      },
      "source": [
        "import matplotlib.pyplot as plt\n",
        "accuracy = history.history['accuracy']\n",
        "val_accuracy = history.history['val_accuracy']\n",
        "loss = history.history['loss']\n",
        "vall_loss = history.history['val_loss']\n",
        "\n",
        "epochs = range(len(accuracy))\n",
        "\n",
        "time = int(tcc - toc)\n",
        "jam_pelatihan = 0 if int(time / 3600) < 1 else int(time / 3600)\n",
        "menit_pelatihan =int(time / 60) if int(time % 60)/60 < 1 else int(time % 60)/60 \n",
        "\n",
        "plt.plot(epochs,accuracy,'r',label = 'Training Accuracy' )\n",
        "plt.plot(epochs,val_accuracy,'b',label ='validation Accuracy')\n",
        "plt.title('Akurasi pada Training dan validation')\n",
        "plt.legend(loc=0)\n",
        "plt.xlabel('Epoch')\n",
        "plt.ylabel('Accuracy')\n",
        "plt.show()\n",
        "\n",
        "plt.scatter(epochs,loss, label = 'Training Loss')\n",
        "plt.scatter(epochs,vall_loss, label = 'Validation Loss')\n",
        "plt.title('Loss pada Training dan Validation')\n",
        "plt.legend(loc=0)\n",
        "plt.xlabel('Epoch')\n",
        "plt.ylabel('loss')\n",
        "plt.show()\n",
        "\n",
        "print('\\nWWaktu pelatihan {} jam {} menit.'.format(jam_pelatihan,menit_pelatihan))\n",
        "print('Atau  {} second'.format(time))"
      ],
      "execution_count": null,
      "outputs": []
    },
    {
      "cell_type": "code",
      "metadata": {
        "id": "XOOjcn31HdPT",
        "colab_type": "code",
        "outputId": "42b77e77-690b-4531-efad-af5d77845134",
        "colab": {
          "resources": {
            "http://localhost:8080/nbextensions/google.colab/files.js": {
              "data": "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",
              "ok": true,
              "headers": [
                [
                  "content-type",
                  "application/javascript"
                ]
              ],
              "status": 200,
              "status_text": ""
            }
          },
          "base_uri": "https://localhost:8080/",
          "height": 356
        }
      },
      "source": [
        "#keras prediction\n",
        "import IPython.display as display\n",
        "import numpy as np\n",
        "from PIL import  Image\n",
        "from keras.preprocessing import image\n",
        "import google.colab.files as files\n",
        "\n",
        "try:\n",
        "    upload = files.upload()\n",
        "\n",
        "    for filename in upload.keys():\n",
        "      path = filename\n",
        "      img = image.load_img(path,target_size=(img_h,img_w))\n",
        "      predict_img = image.img_to_array(img)\n",
        "      predict_img = np.expand_dims(predict_img,axis=0)\n",
        "\n",
        "    image_final = np.vstack([predict_img])\n",
        "\n",
        "  \n",
        "    prediksi = train_model.predict(image_final,batch_size = 10 )\n",
        "    print('\\nnama file : ',filename)\n",
        "    if prediksi[0,0] == 1.0 :\n",
        "      prd = 'paper'\n",
        "    elif prediksi[0,1] == 1.0 :\n",
        "      prd = 'rock'\n",
        "    elif prediksi[0,2] == 1.0 :\n",
        "      prd = 'scissor'\n",
        "    else:\n",
        "      prd = 'prediksi gagal'\n",
        "\n",
        "    print('Prediksi : {}'.format(prd))  \n",
        "    IMG = imgplot.imread(path)\n",
        "    plt.imshow(IMG)\n",
        "    plt.axis('off')\n",
        "    plt.show()\n",
        "\n",
        "\n",
        "except(FileExistsError,FileNotFoundError):\n",
        " print('upload file gagal')\n",
        "\n",
        "except:\n",
        "  print('terjadi kesalahan')"
      ],
      "execution_count": null,
      "outputs": []
    },
    {
      "cell_type": "code",
      "execution_count": 11,
      "metadata": {
        "tags": []
      },
      "outputs": [
        {
          "output_type": "stream",
          "name": "stdout",
          "text": "Num GPUs Available:  0\n"
        }
      ],
      "source": [
        "import tensorflow as tf\n",
        "print(\"Num GPUs Available: \", len(tf.config.experimental.list_physical_devices('GPU')))\n"
      ]
    },
    {
      "cell_type": "code",
      "execution_count": 10,
      "metadata": {},
      "outputs": [],
      "source": [
        "gpus = tf.config.experimental.list_physical_devices('GPU')\n",
        "if gpus:\n",
        "  try:\n",
        "    # Currently, memory growth needs to be the same across GPUs\n",
        "    for gpu in gpus:\n",
        "      tf.config.experimental.set_memory_growth(gpu, True)\n",
        "    logical_gpus = tf.config.experimental.list_logical_devices('GPU')\n",
        "    print(len(gpus), \"Physical GPUs,\", len(logical_gpus), \"Logical GPUs\")\n",
        "  except RuntimeError as e:\n",
        "    # Memory growth must be set before GPUs have been initialized\n",
        "    print(e)\n"
      ]
    },
    {
      "cell_type": "code",
      "execution_count": null,
      "metadata": {},
      "outputs": [],
      "source": []
    }
  ],
  "metadata": {
    "colab": {
      "name": "Submision_Dicoding_Machine_Learning.ipynb",
      "provenance": [],
      "collapsed_sections": []
    },
    "kernelspec": {
      "name": "python_defaultSpec_1594876760271",
      "display_name": "Python 3.8.2 64-bit"
    }
  },
  "nbformat": 4,
  "nbformat_minor": 0
}